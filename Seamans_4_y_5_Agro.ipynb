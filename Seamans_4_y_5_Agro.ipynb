{
  "nbformat": 4,
  "nbformat_minor": 0,
  "metadata": {
    "colab": {
      "provenance": [],
      "authorship_tag": "ABX9TyP1iARoVuTs0TinhgvzS3K/",
      "include_colab_link": true
    },
    "kernelspec": {
      "name": "python3",
      "display_name": "Python 3"
    },
    "language_info": {
      "name": "python"
    }
  },
  "cells": [
    {
      "cell_type": "markdown",
      "metadata": {
        "id": "view-in-github",
        "colab_type": "text"
      },
      "source": [
        "<a href=\"https://colab.research.google.com/github/justorfc/Prog_Agro_2025_2/blob/main/Seamans_4_y_5_Agro.ipynb\" target=\"_parent\"><img src=\"https://colab.research.google.com/assets/colab-badge.svg\" alt=\"Open In Colab\"/></a>"
      ]
    },
    {
      "cell_type": "markdown",
      "metadata": {
        "id": "31f4a98b"
      },
      "source": [
        "### Listas, Tuplas y Diccionarios en Python\n",
        "\n",
        "Estos son los tres tipos de colecciones de datos más comunes en Python. Cada uno tiene características distintas que los hacen adecuados para diferentes situaciones.\n",
        "\n",
        "**Listas (`list`)**\n",
        "\n",
        "*   **¿Qué son?** Son colecciones ordenadas y mutables de elementos. Puedes agregar, eliminar o modificar elementos después de crear la lista. Los elementos pueden ser de diferentes tipos de datos.\n",
        "*   **Similitudes con Tuplas y Diccionarios:** Pueden contener elementos de diferentes tipos de datos.\n",
        "*   **Diferencias con Tuplas y Diccionarios:**\n",
        "    *   **Mutabilidad:** Son mutables (se pueden modificar).\n",
        "    *   **Orden:** Mantienen el orden de inserción de los elementos.\n",
        "    *   **Acceso:** Se accede a los elementos por su índice (comenzando desde 0).\n",
        "    *   **Sintaxis:** Se definen con corchetes `[]`.\n",
        "\n",
        "**Tuplas (`tuple`)**\n",
        "\n",
        "*   **¿Qué son?** Son colecciones ordenadas e inmutables de elementos. Una vez que creas una tupla, no puedes modificar, agregar o eliminar elementos. Los elementos pueden ser de diferentes tipos de datos.\n",
        "*   **Similitudes con Listas y Diccionarios:** Pueden contener elementos de diferentes tipos de datos. Mantienen el orden de inserción (al igual que las listas).\n",
        "*   **Diferencias con Listas y Diccionarios:**\n",
        "    *   **Mutabilidad:** Son inmutables (no se pueden modificar).\n",
        "    *   **Acceso:** Se accede a los elementos por su índice (comenzando desde 0).\n",
        "    *   **Sintaxis:** Se definen con paréntesis `()`.\n",
        "\n",
        "**Diccionarios (`dict`)**\n",
        "\n",
        "*   **¿Qué son?** Son colecciones desordenadas (en versiones de Python anteriores a 3.7, en versiones posteriores mantienen el orden de inserción) de pares clave-valor. Cada elemento tiene una clave única asociada a un valor.\n",
        "*   **Similitudes con Listas y Tuplas:** Pueden contener valores de diferentes tipos de datos.\n",
        "*   **Diferencias con Listas y Tuplas:**\n",
        "    *   **Mutabilidad:** Son mutables (se pueden modificar, agregar o eliminar pares clave-valor).\n",
        "    *   **Orden:** En versiones recientes de Python, mantienen el orden de inserción de las claves.\n",
        "    *   **Acceso:** Se accede a los valores a través de sus claves, no por índice.\n",
        "    *   **Sintaxis:** Se definen con llaves `{}` y los pares clave-valor se separan por dos puntos `:`.\n",
        "\n",
        "**En resumen:**\n",
        "\n",
        "| Característica | Lista (`list`)         | Tupla (`tuple`)         | Diccionario (`dict`)      |\n",
        "| :------------- | :--------------------- | :---------------------- | :------------------------ |\n",
        "| **Mutabilidad**| Mutable                | Inmutable               | Mutable                   |\n",
        "| **Orden**      | Ordenada               | Ordenada                | Ordenada (Python 3.7+)    |\n",
        "| **Acceso**     | Por índice             | Por índice              | Por clave                 |\n",
        "| **Sintaxis**   | `[]`                   | `()`                    | `{}`                      |\n",
        "| **Uso Típico** | Colecciones de ítems   | Datos fijos/estructuras | Datos con relaciones clave-valor |"
      ]
    },
    {
      "cell_type": "markdown",
      "metadata": {
        "id": "a4373567"
      },
      "source": [
        "### Funciones en Python\n",
        "\n",
        "Una función en Python es un bloque de código organizado y reutilizable que realiza una tarea específica. Las funciones ayudan a dividir un programa grande en partes más pequeñas y manejables.\n",
        "\n",
        "**Uso de las Funciones:**\n",
        "\n",
        "*   **Definición:** Las funciones se definen usando la palabra clave `def`, seguida del nombre de la función, paréntesis `()` que pueden contener parámetros, y dos puntos `:`. El bloque de código de la función va indentado.\n",
        "*   **Llamada:** Una vez definida, una función se ejecuta \"llamándola\" por su nombre, seguido de paréntesis `()`. Si la función espera parámetros, se le pasan los valores dentro de los paréntesis al llamarla.\n",
        "*   **Parámetros y Argumentos:** Los **parámetros** son los nombres de las variables que se especifican en la definición de la función. Los **argumentos** son los valores que se pasan a la función cuando se la llama.\n",
        "*   **Retorno de Valores:** Las funciones pueden devolver uno o varios valores utilizando la palabra clave `return`. Si no se especifica `return`, la función devuelve `None` por defecto.\n",
        "\n",
        "**Por qué son Importantes:**\n",
        "\n",
        "*   **Reusabilidad:** Permiten reutilizar bloques de código sin tener que escribirlos varias veces. Esto ahorra tiempo y reduce la probabilidad de errores.\n",
        "*   **Modularidad:** Dividen un programa en módulos o partes lógicas, lo que hace que el código sea más fácil de entender, depurar y mantener.\n",
        "*   **Abstracción:** Ocultan los detalles de implementación de una tarea específica, permitiendo que el usuario de la función se enfoque en qué hace la función, no en cómo lo hace.\n",
        "*   **Legibilidad:** Hacen que el código sea más legible y organizado.\n",
        "*   **Mantenimiento:** Facilitan la modificación del código. Si necesitas cambiar cómo se realiza una tarea, solo tienes que modificar la función que la realiza, y el cambio se reflejará en todos los lugares donde se llama a esa función."
      ]
    },
    {
      "cell_type": "markdown",
      "source": [
        "# Situación de Interés en Ingeniería Agrícola ￿:\n",
        "\n",
        "Un agrónomo consultor necesita una herramienta\n",
        " rápida para aconsejar a los agricultores sobre qué cultivos sembrar. Se requiere un programa que\n",
        "almacene información de varios cultivos (nombre, mes ideal de siembra, necesidad de agua) y que, al\n",
        " ingresar el nombre de un mes, recomiende qué cultivos son adecuados para sembrar en ese período.\n",
        "\n",
        " Caso de Ingeniería Agrícola: Planificador de Cultivos (Listas y Funciones)\n",
        " • Paso a Paso del Código:\n",
        " 1. Crear una lista donde cada elemento sea un diccionario. Cada diccionario representará un\n",
        " cultivo y tendrá claves como nombre, mes_siembra y riego.\n",
        " 2. Crear una función llamada recomendar_cultivos. Esta función recibirá dos parámetros: la\n",
        " lista completa de cultivos y el mes actual.\n",
        " 3. Dentro de la función, usar un bucle for para recorrer la lista de cultivos.\n",
        " 4. En cada iteración, usar un if para comprobar si el mes_siembra del cultivo coincide con el mes\n",
        " proporcionado.\n",
        " 5. Si coinciden, añadir el nombre del cultivo a una nueva lista de recomendados.\n",
        " 6. Al final, la función debe devolver la lista de cultivos recomendados.\n",
        " 7. En el programa principal, pedir al usuario el mes y llamar a la función para obtener e imprimir\n",
        " las recomendaciones."
      ],
      "metadata": {
        "id": "nzmIeSPD1f4y"
      }
    },
    {
      "cell_type": "code",
      "source": [],
      "metadata": {
        "id": "oVxAgzC31_5W"
      },
      "execution_count": null,
      "outputs": []
    },
    {
      "cell_type": "code",
      "metadata": {
        "colab": {
          "base_uri": "https://localhost:8080/"
        },
        "id": "d4fd8830",
        "outputId": "9088d59c-481c-4c14-d982-ec075ea85830"
      },
      "source": [
        "# 1. Crear una lista donde cada elemento sea un diccionario\n",
        "cultivos = [\n",
        "    {\"nombre\": \"Maíz\", \"mes_siembra\": \"Abril\", \"riego\": \"Alto\"},\n",
        "    {\"nombre\": \"Trigo\", \"mes_siembra\": \"Octubre\", \"riego\": \"Medio\"},\n",
        "    {\"nombre\": \"Girasol\", \"mes_siembra\": \"Marzo\", \"riego\": \"Medio\"},\n",
        "    {\"nombre\": \"Soja\", \"mes_siembra\": \"Noviembre\", \"riego\": \"Medio\"},\n",
        "    {\"nombre\": \"Arroz\", \"mes_siembra\": \"Mayo\", \"riego\": \"Muy Alto\"},\n",
        "    {\"nombre\": \"Cebada\", \"mes_siembra\": \"Septiembre\", \"riego\": \"Medio\"}\n",
        "]\n",
        "\n",
        "# 2. Crear una función llamada recomendar_cultivos\n",
        "def recomendar_cultivos(lista_cultivos, mes_actual):\n",
        "    # 5. Si coinciden, añadir el nombre del cultivo a una nueva lista de recomendados.\n",
        "    recomendados = []\n",
        "    # 3. Dentro de la función, usar un bucle for para recorrer la lista de cultivos.\n",
        "    for cultivo in lista_cultivos:\n",
        "        # 4. En cada iteración, usar un if para comprobar si el mes_siembra del cultivo coincide con el mes proporcionado.\n",
        "        if cultivo[\"mes_siembra\"] == mes_actual:\n",
        "            recomendados.append(cultivo[\"nombre\"])\n",
        "    # 6. Al final, la función debe devolver la lista de cultivos recomendados.\n",
        "    return recomendados\n",
        "\n",
        "# 7. En el programa principal, pedir al usuario el mes y llamar a la función para obtener e imprimir las recomendaciones.\n",
        "mes_ingresado = input(\"Ingrese el mes actual (ej: Abril): \")\n",
        "\n",
        "recomendaciones = recomendar_cultivos(cultivos, mes_ingresado)\n",
        "\n",
        "if recomendaciones:\n",
        "    print(f\"\\nPara sembrar en {mes_ingresado}, se recomiendan los siguientes cultivos:\")\n",
        "    for cultivo_recomendado in recomendaciones:\n",
        "        print(f\"- {cultivo_recomendado}\")\n",
        "else:\n",
        "    print(f\"\\nNo se encontraron recomendaciones de cultivos para el mes de {mes_ingresado}.\")"
      ],
      "execution_count": 3,
      "outputs": [
        {
          "output_type": "stream",
          "name": "stdout",
          "text": [
            "Ingrese el mes actual (ej: Abril): Noviembre\n",
            "\n",
            "Para sembrar en Noviembre, se recomiendan los siguientes cultivos:\n",
            "- Soja\n"
          ]
        }
      ]
    },
    {
      "cell_type": "markdown",
      "metadata": {
        "id": "b0d366ae"
      },
      "source": [
        "```python\n",
        "# 1. Crear una lista donde cada elemento sea un diccionario\n",
        "cultivos = [\n",
        "    {\"nombre\": \"Maíz\", \"mes_siembra\": \"Abril\", \"riego\": \"Alto\"},\n",
        "    {\"nombre\": \"Trigo\", \"mes_siembra\": \"Octubre\", \"riego\": \"Medio\"},\n",
        "    {\"nombre\": \"Girasol\", \"mes_siembra\": \"Marzo\", \"riego\": \"Medio\"},\n",
        "    {\"nombre\": \"Soja\", \"mes_siembra\": \"Noviembre\", \"riego\": \"Medio\"},\n",
        "    {\"nombre\": \"Arroz\", \"mes_siembra\": \"Mayo\", \"riego\": \"Muy Alto\"},\n",
        "    {\"nombre\": \"Cebada\", \"mes_siembra\": \"Septiembre\", \"riego\": \"Medio\"}\n",
        "]\n",
        "\n",
        "# 2. Crear una función llamada recomendar_cultivos\n",
        "def recomendar_cultivos(lista_cultivos, mes_actual):\n",
        "    # 5. Si coinciden, añadir el nombre del cultivo a una nueva lista de recomendados.\n",
        "    recomendados = []\n",
        "    # 3. Dentro de la función, usar un bucle for para recorrer la lista de cultivos.\n",
        "    for cultivo in lista_cultivos:\n",
        "        # 4. En cada iteración, usar un if para comprobar si el mes_siembra del cultivo coincide con el mes proporcionado.\n",
        "        if cultivo[\"mes_siembra\"] == mes_actual:\n",
        "            recomendados.append(cultivo[\"nombre\"])\n",
        "    # 6. Al final, la función debe devolver la lista de cultivos recomendados.\n",
        "    return recomendados\n",
        "\n",
        "# 7. En el programa principal, pedir al usuario el mes y llamar a la función para obtener e imprimir las recomendaciones.\n",
        "mes_ingresado = input(\"Ingrese el mes actual (ej: Abril): \")\n",
        "\n",
        "recomendaciones = recomendar_cultivos(cultivos, mes_ingresado)\n",
        "\n",
        "if recomendaciones:\n",
        "    print(f\"\\nPara sembrar en {mes_ingresado}, se recomiendan los siguientes cultivos:\")\n",
        "    for cultivo_recomendado in recomendaciones:\n",
        "        print(f\"- {cultivo_recomendado}\")\n",
        "else:\n",
        "    print(f\"\\nNo se encontraron recomendaciones de cultivos para el mes de {mes_ingresado}.\")"
      ]
    },
    {
      "cell_type": "markdown",
      "metadata": {
        "id": "3bfb657c"
      },
      "source": [
        "### Explicación del Código: Planificador de Cultivos\n",
        "\n",
        "Este código Python implementa un sencillo planificador de cultivos utilizando listas y funciones para recomendar cultivos basados en el mes de siembra.\n",
        "\n",
        "**1. Creación de la lista de cultivos:**"
      ]
    },
    {
      "cell_type": "code",
      "metadata": {
        "id": "e66dc417"
      },
      "source": [
        "def recomendar_cultivos(lista_cultivos, mes_actual):\n",
        "    recomendados = []\n",
        "    for cultivo in lista_cultivos:\n",
        "        if cultivo[\"mes_siembra\"] == mes_actual:\n",
        "            recomendados.append(cultivo[\"nombre\"])\n",
        "    return recomendados"
      ],
      "execution_count": null,
      "outputs": []
    },
    {
      "cell_type": "code",
      "metadata": {
        "id": "89a2a996"
      },
      "source": [
        "mes_ingresado = input(\"Ingrese el mes actual (ej: Abril): \")\n",
        "\n",
        "recomendaciones = recomendar_cultivos(cultivos, mes_ingresado)\n",
        "\n",
        "if recomendaciones:\n",
        "    print(f\"\\nPara sembrar en {mes_ingresado}, se recomiendan los siguientes cultivos:\")\n",
        "    for cultivo_recomendado in recomendaciones:\n",
        "        print(f\"- {cultivo_recomendado}\")\n",
        "else:\n",
        "    print(f\"\\nNo se encontraron recomendaciones de cultivos para el mes de {mes_ingresado}.\")"
      ],
      "execution_count": null,
      "outputs": []
    },
    {
      "cell_type": "markdown",
      "source": [
        "#  Situación 2: Función para Validar Parámetros de Calidad\n",
        "\n",
        "Una planta recibe lotes de fruta y debe\n",
        " validar si cumplen con los parámetros de pH y grados Brix para ser aceptados. Crearás una función que\n",
        " centralice esta lógica de validación.\n",
        " • Paso a Paso del Código (Guía para el Notebook)\n",
        " 1. # Definir una función 'validar_lote' que tome dos parámetros: 'ph' y 'brix'.\n",
        " 2. # Dentro de la función, usar una estructura 'if' para verificar si el pH está\n",
        " entre 3.5 y 4.5 Y si los grados Brix son mayores a 12.\n",
        " 3. # Si ambas condiciones se cumplen, la función debe devolver el valor booleano\n",
        " True.\n",
        " 4. # De lo contrario (else), la función debe devolver el valor booleano False.\n",
        " 5. # En el programa principal, pedir al usuario el pH y los grados Brix del lote\n",
        " actual.\n",
        " 6. # Llamar a la función 'validar_lote' con los datos ingresados y guardar el\n",
        " resultado (True/False) en una variable.\n",
        " 7. # Usar un 'if' en el programa principal para comprobar el valor de esa variable.\n",
        " 8. # Si la variable es True, imprimir \"Lote APROBADO\". Si es False, imprimir \"Lote\n",
        " RECHAZADO\"."
      ],
      "metadata": {
        "id": "R6p7eOxM6vOI"
      }
    },
    {
      "cell_type": "code",
      "source": [],
      "metadata": {
        "id": "y5yzgFSU65BI"
      },
      "execution_count": null,
      "outputs": []
    },
    {
      "cell_type": "code",
      "metadata": {
        "colab": {
          "base_uri": "https://localhost:8080/"
        },
        "id": "30575661",
        "outputId": "de68cfbd-d240-4827-f9a7-0f9f0b19fdca"
      },
      "source": [
        "# 1. Definir una función 'validar_lote' que tome dos parámetros: 'ph' y 'brix'.\n",
        "def validar_lote(ph, brix):\n",
        "    # 2. Dentro de la función, usar una estructura 'if' para verificar si el pH está\n",
        "    # entre 3.5 y 4.5 Y si los grados Brix son mayores a 12.\n",
        "    if 3.5 <= ph <= 4.5 and brix > 12:\n",
        "        # 3. Si ambas condiciones se cumplen, la función debe devolver el valor booleano True.\n",
        "        return True\n",
        "    else:\n",
        "        # 4. De lo contrario (else), la función debe devolver el valor booleano False.\n",
        "        return False\n",
        "\n",
        "# 5. En el programa principal, pedir al usuario el pH y los grados Brix del lote actual.\n",
        "try:\n",
        "    ph_ingresado = float(input(\"Ingrese el valor de pH del lote: \"))\n",
        "    brix_ingresados = float(input(\"Ingrese los grados Brix del lote: \"))\n",
        "\n",
        "    # 6. Llamar a la función 'validar_lote' con los datos ingresados y guardar el\n",
        "    # resultado (True/False) en una variable.\n",
        "    lote_aprobado = validar_lote(ph_ingresado, brix_ingresados)\n",
        "\n",
        "    # 7. Usar un 'if' en el programa principal para comprobar el valor de esa variable.\n",
        "    # 8. Si la variable es True, imprimir \"Lote APROBADO\". Si es False, imprimir \"Lote RECHAZADO\".\n",
        "    if lote_aprobado:\n",
        "        print(\"\\nLote APROBADO\")\n",
        "    else:\n",
        "        print(\"\\nLote RECHAZADO\")\n",
        "\n",
        "except ValueError:\n",
        "    print(\"\\nEntrada inválida. Por favor, ingrese valores numéricos para pH y Brix.\")"
      ],
      "execution_count": 6,
      "outputs": [
        {
          "output_type": "stream",
          "name": "stdout",
          "text": [
            "Ingrese el valor de pH del lote: 4\n",
            "Ingrese los grados Brix del lote: 13\n",
            "\n",
            "Lote APROBADO\n"
          ]
        }
      ]
    },
    {
      "cell_type": "markdown",
      "metadata": {
        "id": "a044076c"
      },
      "source": [
        "### Explicación del Código: Función para Validar Parámetros de Calidad\n",
        "\n",
        "Este código Python define una función para validar si un lote de fruta cumple con ciertos parámetros de calidad (pH y grados Brix) y luego la utiliza para determinar si un lote ingresado por el usuario es aprobado o rechazado.\n",
        "\n",
        "**1. Definición de la función `validar_lote`:**"
      ]
    },
    {
      "cell_type": "code",
      "metadata": {
        "id": "4a49b4dd"
      },
      "source": [
        "    if 3.5 <= ph <= 4.5 and brix > 12:\n",
        "        return True\n",
        "    else:\n",
        "        return False"
      ],
      "execution_count": null,
      "outputs": []
    },
    {
      "cell_type": "code",
      "metadata": {
        "id": "b4133bdd"
      },
      "source": [
        "try:\n",
        "    ph_ingresado = float(input(\"Ingrese el valor de pH del lote: \"))\n",
        "    brix_ingresados = float(input(\"Ingrese los grados Brix del lote: \"))\n",
        "\n",
        "    lote_aprobado = validar_lote(ph_ingresado, brix_ingresados)\n",
        "\n",
        "    # ... impresión del resultado ...\n",
        "\n",
        "except ValueError:\n",
        "    print(\"\\nEntrada inválida. Por favor, ingrese valores numéricos para pH y Brix.\")"
      ],
      "execution_count": null,
      "outputs": []
    },
    {
      "cell_type": "code",
      "metadata": {
        "id": "b37d68af"
      },
      "source": [
        "    if lote_aprobado:\n",
        "        print(\"\\nLote APROBADO\")\n",
        "    else:\n",
        "        print(\"\\nLote RECHAZADO\")"
      ],
      "execution_count": null,
      "outputs": []
    },
    {
      "cell_type": "markdown",
      "metadata": {
        "id": "1e40e881"
      },
      "source": [
        "### Manejo de Errores con `try` y `except` en Python\n",
        "\n",
        "En Python, el manejo de errores es crucial para crear programas robustos que no fallen inesperadamente cuando ocurren problemas (como entradas de usuario incorrectas, archivos no encontrados, etc.). Las estructuras `try` y `except` se utilizan para gestionar estos errores, conocidos como **excepciones**.\n",
        "\n",
        "*   **`try`:** Este bloque contiene el código que **podría** generar una excepción. Python intenta ejecutar el código dentro del bloque `try`. Si no ocurre ninguna excepción, el bloque `except` asociado es omitido.\n",
        "*   **`except`:** Si una excepción ocurre dentro del bloque `try`, Python busca un bloque `except` que pueda manejar ese tipo específico de excepción. Si lo encuentra, el código dentro de ese bloque `except` se ejecuta. Si no se especifica un tipo de excepción después de `except`, atrapará cualquier tipo de excepción que ocurra en el bloque `try`.\n",
        "\n",
        "**¿Por qué son importantes?**\n",
        "\n",
        "*   **Prevención de fallos:** Evitan que el programa se detenga abruptamente cuando ocurre un error.\n",
        "*   **Manejo elegante de errores:** Permiten responder a los errores de una manera controlada, informando al usuario o tomando acciones correctivas.\n",
        "*   **Separación de lógica:** Ayudan a separar el código \"normal\" del código de manejo de errores, haciendo el programa más legible.\n",
        "\n",
        "**Ejemplo simple:**"
      ]
    },
    {
      "cell_type": "markdown",
      "source": [
        "#  Ingeniería Agroindustrial: Situación 1: Ficha Técnica de un Producto\n",
        "\n",
        "Se necesita un programa para almacenar y mostrar la  información clave de un producto alimenticio, como su nombre, lote, fecha de vencimiento y porcentaje de humedad.\n",
        "\n",
        "Un diccionario es perfecto para esto, ya que cada dato tiene una etiqueta clara.\n",
        " • Paso a Paso del Código (Guía para el Notebook)\n",
        " 1. # Crear un diccionario vacío llamado 'ficha_producto'.\n",
        " 2. # Pedir al usuario el nombre del producto y guardarlo en el diccionario con la  clave 'nombre'.\n",
        " 3. # Pedir el número de lote y guardarlo con la clave 'lote'.\n",
        " 4. # Pedir la fecha de vencimiento y guardarla con la clave 'vencimiento'.\n",
        " 5. # Pedir el porcentaje de humedad y guardarlo con la clave 'humedad'.\n",
        " 6. # Mostrar un encabezado que diga \"--- Ficha Técnica del Producto---\".\n",
        " 7. # Imprimir cada uno de los valores del diccionario accediendo a ellos a través\n",
        " de sus claves (ej. ficha_producto['nombre'])."
      ],
      "metadata": {
        "id": "qLtQ492m9OzD"
      }
    },
    {
      "cell_type": "code",
      "source": [],
      "metadata": {
        "id": "LMF4FNK39qyx"
      },
      "execution_count": null,
      "outputs": []
    },
    {
      "cell_type": "code",
      "metadata": {
        "colab": {
          "base_uri": "https://localhost:8080/"
        },
        "id": "a25a7e6d",
        "outputId": "7e7172aa-86b8-4dfd-dd6c-2c3fdc4421ac"
      },
      "source": [
        "# 1. Crear un diccionario vacío llamado 'ficha_producto'.\n",
        "# 2. Pedir al usuario el nombre del producto y guardarlo en el diccionario con la clave 'nombre'.\n",
        "# 3. Pedir el número de lote y guardarlo con la clave 'lote'.\n",
        "# 4. Pedir la fecha de vencimiento y guardarla con la clave 'vencimiento'.\n",
        "# 5. Pedir el porcentaje de humedad y guardarlo con la clave 'humedad'.\n",
        "# 6. Mostrar un encabezado que diga \"--- Ficha Técnica del Producto---\".\n",
        "# 7. Imprimir cada uno de los valores del diccionario accediendo a ellos a través de sus claves\n",
        "\n",
        "while True:\n",
        "    ficha_producto = {}\n",
        "\n",
        "    nombre_producto = input(\"Ingrese el nombre del producto (o escriba 'fin' para terminar): \")\n",
        "    if nombre_producto.lower() == 'fin':\n",
        "        break\n",
        "    ficha_producto['nombre'] = nombre_producto\n",
        "\n",
        "    numero_lote = input(\"Ingrese el número de lote: \")\n",
        "    ficha_producto['lote'] = numero_lote\n",
        "\n",
        "    fecha_vencimiento = input(\"Ingrese la fecha de vencimiento: \")\n",
        "    ficha_producto['vencimiento'] = fecha_vencimiento\n",
        "\n",
        "    porcentaje_humedad = input(\"Ingrese el porcentaje de humedad: \")\n",
        "    ficha_producto['humedad'] = porcentaje_humedad\n",
        "\n",
        "    print(\"\\n--- Ficha Técnica del Producto---\")\n",
        "    print(f\"Nombre: {ficha_producto['nombre']}\")\n",
        "    print(f\"Lote: {ficha_producto['lote']}\")\n",
        "    print(f\"Fecha de Vencimiento: {ficha_producto['vencimiento']}\")\n",
        "    print(f\"Porcentaje de Humedad: {ficha_producto['humedad']}\")\n",
        "    print(\"-\" * 30) # Separador para múltiples fichas\n",
        "\n",
        "print(\"\\nPrograma finalizado.\")"
      ],
      "execution_count": 8,
      "outputs": [
        {
          "output_type": "stream",
          "name": "stdout",
          "text": [
            "Ingrese el nombre del producto (o escriba 'fin' para terminar): Mango\n",
            "Ingrese el número de lote: 123\n",
            "Ingrese la fecha de vencimiento: 12/12/2027\n",
            "Ingrese el porcentaje de humedad: 78\n",
            "\n",
            "--- Ficha Técnica del Producto---\n",
            "Nombre: Mango\n",
            "Lote: 123\n",
            "Fecha de Vencimiento: 12/12/2027\n",
            "Porcentaje de Humedad: 78\n",
            "------------------------------\n",
            "Ingrese el nombre del producto (o escriba 'fin' para terminar): yuca\n",
            "Ingrese el número de lote: 234\n",
            "Ingrese la fecha de vencimiento: 12/12/2028\n",
            "Ingrese el porcentaje de humedad: 80\n",
            "\n",
            "--- Ficha Técnica del Producto---\n",
            "Nombre: yuca\n",
            "Lote: 234\n",
            "Fecha de Vencimiento: 12/12/2028\n",
            "Porcentaje de Humedad: 80\n",
            "------------------------------\n",
            "Ingrese el nombre del producto (o escriba 'fin' para terminar): fin\n",
            "\n",
            "Programa finalizado.\n"
          ]
        }
      ]
    },
    {
      "cell_type": "code",
      "source": [],
      "metadata": {
        "id": "EsyZs5XB_rew"
      },
      "execution_count": null,
      "outputs": []
    },
    {
      "cell_type": "markdown",
      "metadata": {
        "id": "0057dbed"
      },
      "source": [
        "# Task\n",
        "Escribe código de Python que resuelva para Ingeniería Agroindustrial: la Situación 1: Ficha Técnica de un Producto, de tal manera que solicite indefinidamente los datos, finalice cuando el digitador lo desee y almacene todos los datos en un archivo de excel."
      ]
    },
    {
      "cell_type": "markdown",
      "metadata": {
        "id": "ca47d9fa"
      },
      "source": [
        "## Instalar la biblioteca openpyxl\n",
        "\n",
        "### Subtask:\n",
        "Instalar la biblioteca necesaria para trabajar con archivos Excel (.xlsx).\n"
      ]
    },
    {
      "cell_type": "markdown",
      "metadata": {
        "id": "15086bef"
      },
      "source": [
        "**Reasoning**:\n",
        "The subtask requires installing the `openpyxl` library to handle Excel files. The `pip install` command is used to install Python packages.\n",
        "\n"
      ]
    },
    {
      "cell_type": "code",
      "metadata": {
        "colab": {
          "base_uri": "https://localhost:8080/"
        },
        "id": "542ce6b7",
        "outputId": "2c2475e8-9de4-4431-f8b2-5930781b34e3"
      },
      "source": [
        "%pip install openpyxl"
      ],
      "execution_count": 9,
      "outputs": [
        {
          "output_type": "stream",
          "name": "stdout",
          "text": [
            "Requirement already satisfied: openpyxl in /usr/local/lib/python3.12/dist-packages (3.1.5)\n",
            "Requirement already satisfied: et-xmlfile in /usr/local/lib/python3.12/dist-packages (from openpyxl) (2.0.0)\n"
          ]
        }
      ]
    }
  ]
}