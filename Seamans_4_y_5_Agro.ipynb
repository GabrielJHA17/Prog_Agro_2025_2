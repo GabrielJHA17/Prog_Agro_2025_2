{
  "nbformat": 4,
  "nbformat_minor": 0,
  "metadata": {
    "colab": {
      "provenance": [],
      "authorship_tag": "ABX9TyOKiRETw2Up9NwPtndTWp3s",
      "include_colab_link": true
    },
    "kernelspec": {
      "name": "python3",
      "display_name": "Python 3"
    },
    "language_info": {
      "name": "python"
    }
  },
  "cells": [
    {
      "cell_type": "markdown",
      "metadata": {
        "id": "view-in-github",
        "colab_type": "text"
      },
      "source": [
        "<a href=\"https://colab.research.google.com/github/justorfc/Prog_Agro_2025_2/blob/main/Seamans_4_y_5_Agro.ipynb\" target=\"_parent\"><img src=\"https://colab.research.google.com/assets/colab-badge.svg\" alt=\"Open In Colab\"/></a>"
      ]
    },
    {
      "cell_type": "markdown",
      "metadata": {
        "id": "31f4a98b"
      },
      "source": [
        "### Listas, Tuplas y Diccionarios en Python\n",
        "\n",
        "Estos son los tres tipos de colecciones de datos más comunes en Python. Cada uno tiene características distintas que los hacen adecuados para diferentes situaciones.\n",
        "\n",
        "**Listas (`list`)**\n",
        "\n",
        "*   **¿Qué son?** Son colecciones ordenadas y mutables de elementos. Puedes agregar, eliminar o modificar elementos después de crear la lista. Los elementos pueden ser de diferentes tipos de datos.\n",
        "*   **Similitudes con Tuplas y Diccionarios:** Pueden contener elementos de diferentes tipos de datos.\n",
        "*   **Diferencias con Tuplas y Diccionarios:**\n",
        "    *   **Mutabilidad:** Son mutables (se pueden modificar).\n",
        "    *   **Orden:** Mantienen el orden de inserción de los elementos.\n",
        "    *   **Acceso:** Se accede a los elementos por su índice (comenzando desde 0).\n",
        "    *   **Sintaxis:** Se definen con corchetes `[]`.\n",
        "\n",
        "**Tuplas (`tuple`)**\n",
        "\n",
        "*   **¿Qué son?** Son colecciones ordenadas e inmutables de elementos. Una vez que creas una tupla, no puedes modificar, agregar o eliminar elementos. Los elementos pueden ser de diferentes tipos de datos.\n",
        "*   **Similitudes con Listas y Diccionarios:** Pueden contener elementos de diferentes tipos de datos. Mantienen el orden de inserción (al igual que las listas).\n",
        "*   **Diferencias con Listas y Diccionarios:**\n",
        "    *   **Mutabilidad:** Son inmutables (no se pueden modificar).\n",
        "    *   **Acceso:** Se accede a los elementos por su índice (comenzando desde 0).\n",
        "    *   **Sintaxis:** Se definen con paréntesis `()`.\n",
        "\n",
        "**Diccionarios (`dict`)**\n",
        "\n",
        "*   **¿Qué son?** Son colecciones desordenadas (en versiones de Python anteriores a 3.7, en versiones posteriores mantienen el orden de inserción) de pares clave-valor. Cada elemento tiene una clave única asociada a un valor.\n",
        "*   **Similitudes con Listas y Tuplas:** Pueden contener valores de diferentes tipos de datos.\n",
        "*   **Diferencias con Listas y Tuplas:**\n",
        "    *   **Mutabilidad:** Son mutables (se pueden modificar, agregar o eliminar pares clave-valor).\n",
        "    *   **Orden:** En versiones recientes de Python, mantienen el orden de inserción de las claves.\n",
        "    *   **Acceso:** Se accede a los valores a través de sus claves, no por índice.\n",
        "    *   **Sintaxis:** Se definen con llaves `{}` y los pares clave-valor se separan por dos puntos `:`.\n",
        "\n",
        "**En resumen:**\n",
        "\n",
        "| Característica | Lista (`list`)         | Tupla (`tuple`)         | Diccionario (`dict`)      |\n",
        "| :------------- | :--------------------- | :---------------------- | :------------------------ |\n",
        "| **Mutabilidad**| Mutable                | Inmutable               | Mutable                   |\n",
        "| **Orden**      | Ordenada               | Ordenada                | Ordenada (Python 3.7+)    |\n",
        "| **Acceso**     | Por índice             | Por índice              | Por clave                 |\n",
        "| **Sintaxis**   | `[]`                   | `()`                    | `{}`                      |\n",
        "| **Uso Típico** | Colecciones de ítems   | Datos fijos/estructuras | Datos con relaciones clave-valor |"
      ]
    },
    {
      "cell_type": "markdown",
      "metadata": {
        "id": "a4373567"
      },
      "source": [
        "### Funciones en Python\n",
        "\n",
        "Una función en Python es un bloque de código organizado y reutilizable que realiza una tarea específica. Las funciones ayudan a dividir un programa grande en partes más pequeñas y manejables.\n",
        "\n",
        "**Uso de las Funciones:**\n",
        "\n",
        "*   **Definición:** Las funciones se definen usando la palabra clave `def`, seguida del nombre de la función, paréntesis `()` que pueden contener parámetros, y dos puntos `:`. El bloque de código de la función va indentado.\n",
        "*   **Llamada:** Una vez definida, una función se ejecuta \"llamándola\" por su nombre, seguido de paréntesis `()`. Si la función espera parámetros, se le pasan los valores dentro de los paréntesis al llamarla.\n",
        "*   **Parámetros y Argumentos:** Los **parámetros** son los nombres de las variables que se especifican en la definición de la función. Los **argumentos** son los valores que se pasan a la función cuando se la llama.\n",
        "*   **Retorno de Valores:** Las funciones pueden devolver uno o varios valores utilizando la palabra clave `return`. Si no se especifica `return`, la función devuelve `None` por defecto.\n",
        "\n",
        "**Por qué son Importantes:**\n",
        "\n",
        "*   **Reusabilidad:** Permiten reutilizar bloques de código sin tener que escribirlos varias veces. Esto ahorra tiempo y reduce la probabilidad de errores.\n",
        "*   **Modularidad:** Dividen un programa en módulos o partes lógicas, lo que hace que el código sea más fácil de entender, depurar y mantener.\n",
        "*   **Abstracción:** Ocultan los detalles de implementación de una tarea específica, permitiendo que el usuario de la función se enfoque en qué hace la función, no en cómo lo hace.\n",
        "*   **Legibilidad:** Hacen que el código sea más legible y organizado.\n",
        "*   **Mantenimiento:** Facilitan la modificación del código. Si necesitas cambiar cómo se realiza una tarea, solo tienes que modificar la función que la realiza, y el cambio se reflejará en todos los lugares donde se llama a esa función."
      ]
    },
    {
      "cell_type": "markdown",
      "source": [
        "# Situación de Interés en Ingeniería Agrícola ￿:\n",
        "\n",
        "Un agrónomo consultor necesita una herramienta\n",
        " rápida para aconsejar a los agricultores sobre qué cultivos sembrar. Se requiere un programa que\n",
        "almacene información de varios cultivos (nombre, mes ideal de siembra, necesidad de agua) y que, al\n",
        " ingresar el nombre de un mes, recomiende qué cultivos son adecuados para sembrar en ese período.\n",
        "\n",
        " Caso de Ingeniería Agrícola: Planificador de Cultivos (Listas y Funciones)\n",
        " • Paso a Paso del Código:\n",
        " 1. Crear una lista donde cada elemento sea un diccionario. Cada diccionario representará un\n",
        " cultivo y tendrá claves como nombre, mes_siembra y riego.\n",
        " 2. Crear una función llamada recomendar_cultivos. Esta función recibirá dos parámetros: la\n",
        " lista completa de cultivos y el mes actual.\n",
        " 3. Dentro de la función, usar un bucle for para recorrer la lista de cultivos.\n",
        " 4. En cada iteración, usar un if para comprobar si el mes_siembra del cultivo coincide con el mes\n",
        " proporcionado.\n",
        " 5. Si coinciden, añadir el nombre del cultivo a una nueva lista de recomendados.\n",
        " 6. Al final, la función debe devolver la lista de cultivos recomendados.\n",
        " 7. En el programa principal, pedir al usuario el mes y llamar a la función para obtener e imprimir\n",
        " las recomendaciones."
      ],
      "metadata": {
        "id": "nzmIeSPD1f4y"
      }
    },
    {
      "cell_type": "code",
      "source": [],
      "metadata": {
        "id": "oVxAgzC31_5W"
      },
      "execution_count": null,
      "outputs": []
    },
    {
      "cell_type": "code",
      "metadata": {
        "colab": {
          "base_uri": "https://localhost:8080/"
        },
        "id": "d4fd8830",
        "outputId": "9088d59c-481c-4c14-d982-ec075ea85830"
      },
      "source": [
        "# 1. Crear una lista donde cada elemento sea un diccionario\n",
        "cultivos = [\n",
        "    {\"nombre\": \"Maíz\", \"mes_siembra\": \"Abril\", \"riego\": \"Alto\"},\n",
        "    {\"nombre\": \"Trigo\", \"mes_siembra\": \"Octubre\", \"riego\": \"Medio\"},\n",
        "    {\"nombre\": \"Girasol\", \"mes_siembra\": \"Marzo\", \"riego\": \"Medio\"},\n",
        "    {\"nombre\": \"Soja\", \"mes_siembra\": \"Noviembre\", \"riego\": \"Medio\"},\n",
        "    {\"nombre\": \"Arroz\", \"mes_siembra\": \"Mayo\", \"riego\": \"Muy Alto\"},\n",
        "    {\"nombre\": \"Cebada\", \"mes_siembra\": \"Septiembre\", \"riego\": \"Medio\"}\n",
        "]\n",
        "\n",
        "# 2. Crear una función llamada recomendar_cultivos\n",
        "def recomendar_cultivos(lista_cultivos, mes_actual):\n",
        "    # 5. Si coinciden, añadir el nombre del cultivo a una nueva lista de recomendados.\n",
        "    recomendados = []\n",
        "    # 3. Dentro de la función, usar un bucle for para recorrer la lista de cultivos.\n",
        "    for cultivo in lista_cultivos:\n",
        "        # 4. En cada iteración, usar un if para comprobar si el mes_siembra del cultivo coincide con el mes proporcionado.\n",
        "        if cultivo[\"mes_siembra\"] == mes_actual:\n",
        "            recomendados.append(cultivo[\"nombre\"])\n",
        "    # 6. Al final, la función debe devolver la lista de cultivos recomendados.\n",
        "    return recomendados\n",
        "\n",
        "# 7. En el programa principal, pedir al usuario el mes y llamar a la función para obtener e imprimir las recomendaciones.\n",
        "mes_ingresado = input(\"Ingrese el mes actual (ej: Abril): \")\n",
        "\n",
        "recomendaciones = recomendar_cultivos(cultivos, mes_ingresado)\n",
        "\n",
        "if recomendaciones:\n",
        "    print(f\"\\nPara sembrar en {mes_ingresado}, se recomiendan los siguientes cultivos:\")\n",
        "    for cultivo_recomendado in recomendaciones:\n",
        "        print(f\"- {cultivo_recomendado}\")\n",
        "else:\n",
        "    print(f\"\\nNo se encontraron recomendaciones de cultivos para el mes de {mes_ingresado}.\")"
      ],
      "execution_count": 3,
      "outputs": [
        {
          "output_type": "stream",
          "name": "stdout",
          "text": [
            "Ingrese el mes actual (ej: Abril): Noviembre\n",
            "\n",
            "Para sembrar en Noviembre, se recomiendan los siguientes cultivos:\n",
            "- Soja\n"
          ]
        }
      ]
    },
    {
      "cell_type": "markdown",
      "metadata": {
        "id": "b0d366ae"
      },
      "source": [
        "```python\n",
        "# 1. Crear una lista donde cada elemento sea un diccionario\n",
        "cultivos = [\n",
        "    {\"nombre\": \"Maíz\", \"mes_siembra\": \"Abril\", \"riego\": \"Alto\"},\n",
        "    {\"nombre\": \"Trigo\", \"mes_siembra\": \"Octubre\", \"riego\": \"Medio\"},\n",
        "    {\"nombre\": \"Girasol\", \"mes_siembra\": \"Marzo\", \"riego\": \"Medio\"},\n",
        "    {\"nombre\": \"Soja\", \"mes_siembra\": \"Noviembre\", \"riego\": \"Medio\"},\n",
        "    {\"nombre\": \"Arroz\", \"mes_siembra\": \"Mayo\", \"riego\": \"Muy Alto\"},\n",
        "    {\"nombre\": \"Cebada\", \"mes_siembra\": \"Septiembre\", \"riego\": \"Medio\"}\n",
        "]\n",
        "\n",
        "# 2. Crear una función llamada recomendar_cultivos\n",
        "def recomendar_cultivos(lista_cultivos, mes_actual):\n",
        "    # 5. Si coinciden, añadir el nombre del cultivo a una nueva lista de recomendados.\n",
        "    recomendados = []\n",
        "    # 3. Dentro de la función, usar un bucle for para recorrer la lista de cultivos.\n",
        "    for cultivo in lista_cultivos:\n",
        "        # 4. En cada iteración, usar un if para comprobar si el mes_siembra del cultivo coincide con el mes proporcionado.\n",
        "        if cultivo[\"mes_siembra\"] == mes_actual:\n",
        "            recomendados.append(cultivo[\"nombre\"])\n",
        "    # 6. Al final, la función debe devolver la lista de cultivos recomendados.\n",
        "    return recomendados\n",
        "\n",
        "# 7. En el programa principal, pedir al usuario el mes y llamar a la función para obtener e imprimir las recomendaciones.\n",
        "mes_ingresado = input(\"Ingrese el mes actual (ej: Abril): \")\n",
        "\n",
        "recomendaciones = recomendar_cultivos(cultivos, mes_ingresado)\n",
        "\n",
        "if recomendaciones:\n",
        "    print(f\"\\nPara sembrar en {mes_ingresado}, se recomiendan los siguientes cultivos:\")\n",
        "    for cultivo_recomendado in recomendaciones:\n",
        "        print(f\"- {cultivo_recomendado}\")\n",
        "else:\n",
        "    print(f\"\\nNo se encontraron recomendaciones de cultivos para el mes de {mes_ingresado}.\")"
      ]
    },
    {
      "cell_type": "markdown",
      "metadata": {
        "id": "3bfb657c"
      },
      "source": [
        "### Explicación del Código: Planificador de Cultivos\n",
        "\n",
        "Este código Python implementa un sencillo planificador de cultivos utilizando listas y funciones para recomendar cultivos basados en el mes de siembra.\n",
        "\n",
        "**1. Creación de la lista de cultivos:**"
      ]
    },
    {
      "cell_type": "code",
      "metadata": {
        "id": "e66dc417"
      },
      "source": [
        "def recomendar_cultivos(lista_cultivos, mes_actual):\n",
        "    recomendados = []\n",
        "    for cultivo in lista_cultivos:\n",
        "        if cultivo[\"mes_siembra\"] == mes_actual:\n",
        "            recomendados.append(cultivo[\"nombre\"])\n",
        "    return recomendados"
      ],
      "execution_count": null,
      "outputs": []
    },
    {
      "cell_type": "code",
      "metadata": {
        "id": "89a2a996"
      },
      "source": [
        "mes_ingresado = input(\"Ingrese el mes actual (ej: Abril): \")\n",
        "\n",
        "recomendaciones = recomendar_cultivos(cultivos, mes_ingresado)\n",
        "\n",
        "if recomendaciones:\n",
        "    print(f\"\\nPara sembrar en {mes_ingresado}, se recomiendan los siguientes cultivos:\")\n",
        "    for cultivo_recomendado in recomendaciones:\n",
        "        print(f\"- {cultivo_recomendado}\")\n",
        "else:\n",
        "    print(f\"\\nNo se encontraron recomendaciones de cultivos para el mes de {mes_ingresado}.\")"
      ],
      "execution_count": null,
      "outputs": []
    }
  ]
}