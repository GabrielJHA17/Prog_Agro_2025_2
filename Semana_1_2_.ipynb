{
  "nbformat": 4,
  "nbformat_minor": 0,
  "metadata": {
    "colab": {
      "provenance": [],
      "authorship_tag": "ABX9TyMj93rx368fIwFxw09688U9",
      "include_colab_link": true
    },
    "kernelspec": {
      "name": "python3",
      "display_name": "Python 3"
    },
    "language_info": {
      "name": "python"
    }
  },
  "cells": [
    {
      "cell_type": "markdown",
      "metadata": {
        "id": "view-in-github",
        "colab_type": "text"
      },
      "source": [
        "<a href=\"https://colab.research.google.com/github/GabrielJHA17/Prog_Agro_2025_2/blob/main/Semana_1_2_.ipynb\" target=\"_parent\"><img src=\"https://colab.research.google.com/assets/colab-badge.svg\" alt=\"Open In Colab\"/></a>"
      ]
    },
    {
      "cell_type": "markdown",
      "source": [
        "# Agroindustrial: Cálculo de Rendimiento\n",
        "\n",
        "1. Explicar el propósito de la calculadora.\n",
        "\n",
        "2. Pedir el peso inicial del lote de mangos en kg (input).\n",
        "\n",
        "3. Pedir el peso final de la pulpa obtenida en kg (input).\n",
        "\n",
        "4. Convertir ambos pesos a números decimales (float).\n",
        "\n",
        "5. Calcular el rendimiento usando la fórmula: (peso_final / peso_inicial) * 100.\n",
        "\n",
        "6. Mostrar el resultado del rendimiento, formateado como porcentaje."
      ],
      "metadata": {
        "id": "m60vypQtk49M"
      }
    },
    {
      "cell_type": "code",
      "source": [
        "# 1. Explicar el propósito de la calculadora.\n",
        "print(\"Esta calculadora te ayudará a determinar el rendimiento de la pulpa de mango.\")\n",
        "\n",
        "# 2. Pedir el peso inicial del lote de mangos en kg (input).\n",
        "peso_inicial_str = input(\"Introduce el peso inicial del lote de mangos en kg: \")\n",
        "\n",
        "# 3. Pedir el peso final de la pulpa obtenida en kg (input).\n",
        "peso_final_str = input(\"Introduce el peso final de la pulpa obtenida en kg: \")\n",
        "\n",
        "# 4. Convertir ambos pesos a números decimales (float).\n",
        "try:\n",
        "    peso_inicial = float(peso_inicial_str)\n",
        "    peso_final = float(peso_final_str)\n",
        "\n",
        "    # Validar que los pesos sean no negativos\n",
        "    if peso_inicial < 0 or peso_final < 0:\n",
        "        print(\"Los pesos no pueden ser negativos.\")\n",
        "    elif peso_inicial == 0:\n",
        "        print(\"El peso inicial no puede ser cero.\")\n",
        "    else:\n",
        "        # 5. Calcular el rendimiento usando la fórmula: (peso_final / peso_inicial) * 100.\n",
        "        rendimiento = (peso_final / peso_inicial) * 100\n",
        "\n",
        "        # 6. Mostrar el resultado del rendimiento, formateado como porcentaje.\n",
        "        print(f\"El rendimiento de la pulpa es: {rendimiento:.2f}%\")\n",
        "\n",
        "except ValueError:\n",
        "    print(\"Entrada inválida. Por favor, introduce números válidos para los pesos.\")"
      ],
      "metadata": {
        "colab": {
          "base_uri": "https://localhost:8080/"
        },
        "id": "wb4TISpplEMj",
        "outputId": "bd16eca4-bef6-4a72-c582-1f9e973f075e"
      },
      "execution_count": 1,
      "outputs": [
        {
          "output_type": "stream",
          "name": "stdout",
          "text": [
            "Esta calculadora te ayudará a determinar el rendimiento de la pulpa de mango.\n",
            "Introduce el peso inicial del lote de mangos en kg: 180\n",
            "Introduce el peso final de la pulpa obtenida en kg: 77\n",
            "El rendimiento de la pulpa es: 42.78%\n"
          ]
        }
      ]
    },
    {
      "cell_type": "code",
      "source": [],
      "metadata": {
        "id": "odICgclplg_3"
      },
      "execution_count": null,
      "outputs": []
    },
    {
      "cell_type": "markdown",
      "metadata": {
        "id": "4672cdbb"
      },
      "source": [
        "**Explicación paso a paso del código de cálculo de rendimiento:**\n",
        "\n",
        "Este código Python solicita al usuario el peso inicial de un lote de mangos y el peso final de la pulpa obtenida, y luego calcula y muestra el rendimiento en porcentaje.\n",
        "\n",
        "Aquí te explico cada parte:\n",
        "\n",
        "1.  **`print(\"Esta calculadora te ayudará a determinar el rendimiento de la pulpa de mango.\")`**\n",
        "    *   **Propósito:** Mostrar un mensaje de bienvenida al usuario y explicar brevemente la función del programa.\n",
        "    *   **Cómo funciona:** La función `print()` envía el texto entre comillas a la salida estándar (generalmente la consola o la salida de la celda en Colab).\n",
        "\n",
        "2.  **`peso_inicial_str = input(\"Introduce el peso inicial del lote de mangos en kg: \")`**\n",
        "    *   **Propósito:** Solicitar al usuario que ingrese el peso inicial de los mangos.\n",
        "    *   **Cómo funciona:**\n",
        "        *   La función `input()` muestra el mensaje entre paréntesis al usuario.\n",
        "        *   Espera a que el usuario escriba algo y presione Enter.\n",
        "        *   Lo que el usuario escribe se devuelve como una cadena de texto.\n",
        "        *   Esta cadena de texto se almacena en la variable `peso_inicial_str`.\n",
        "\n",
        "3.  **`peso_final_str = input(\"Introduce el peso final de la pulpa obtenida en kg: \")`**\n",
        "    *   **Propósito:** Solicitar al usuario que ingrese el peso final de la pulpa obtenida.\n",
        "    *   **Cómo funciona:** Funciona de manera idéntica al paso anterior, pero solicita el peso final y almacena la entrada como cadena en la variable `peso_final_str`.\n",
        "\n",
        "4.  **`try:`**\n",
        "    *   **Propósito:** Iniciar un bloque de manejo de excepciones. Esto permite al programa \"intentar\" ejecutar un código y, si ocurre un error específico (como que el usuario no introduzca un número), \"capturarlo\" y manejarlo de manera controlada en lugar de que el programa falle.\n",
        "\n",
        "5.  **`peso_inicial = float(peso_inicial_str)`**\n",
        "    *   **Propósito:** Convertir la cadena de texto del peso inicial (`peso_inicial_str`) a un número decimal (tipo `float`).\n",
        "    *   **Cómo funciona:** La función `float()` intenta interpretar la cadena como un número con decimales. Si la cadena no representa un número válido, generará un error `ValueError`. El resultado numérico se guarda en la variable `peso_inicial`.\n",
        "\n",
        "6.  **`peso_final = float(peso_final_str)`**\n",
        "    *   **Propósito:** Convertir la cadena de texto del peso final (`peso_final_str`) a un número decimal (`float`).\n",
        "    *   **Cómo funciona:** Similar al paso anterior, convierte la cadena a float y la almacena en `peso_final`.\n",
        "\n",
        "7.  **`if peso_inicial < 0 or peso_final < 0:`**\n",
        "    *   **Propósito:** Validar si alguno de los pesos introducidos es un valor negativo, lo cual no tiene sentido en este contexto.\n",
        "    *   **Cómo funciona:** La sentencia `if` comprueba la condición. Si `peso_inicial` es menor que 0 O (`or`) `peso_final` es menor que 0, la condición es verdadera y se ejecuta el bloque de código indentado debajo.\n",
        "\n",
        "8.  **`print(\"Los pesos no pueden ser negativos.\")`**\n",
        "    *   **Propósito:** Informar al usuario que ha introducido un peso negativo.\n",
        "    *   **Cómo funciona:** Imprime el mensaje de error.\n",
        "\n",
        "9.  **`elif peso_inicial == 0:`**\n",
        "    *   **Propósito:** Validar si el peso inicial es cero. Es importante porque no se puede dividir por cero.\n",
        "    *   **Cómo funciona:** `elif` es una abreviatura de \"else if\". Esta condición se comprueba solo si la condición `if` anterior (`peso_inicial < 0 or peso_final < 0`) fue falsa. Si `peso_inicial` es igual a 0, la condición es verdadera y se ejecuta el bloque de código indentado debajo.\n",
        "\n",
        "10. **`print(\"El peso inicial no puede ser cero.\")`**\n",
        "    *   **Propósito:** Informar al usuario que el peso inicial no puede ser cero.\n",
        "    *   **Cómo funciona:** Imprime el mensaje de error.\n",
        "\n",
        "11. **`else:`**\n",
        "    *   **Propósito:** Ejecutar el código principal de cálculo solo si las validaciones anteriores (pesos negativos o peso inicial cero) no se cumplieron.\n",
        "    *   **Cómo funciona:** El bloque `else` se ejecuta cuando ninguna de las condiciones `if` o `elif` anteriores fue verdadera.\n",
        "\n",
        "12. **`rendimiento = (peso_final / peso_inicial) * 100`**\n",
        "    *   **Propósito:** Calcular el rendimiento de la pulpa.\n",
        "    *   **Cómo funciona:** Realiza la división del `peso_final` entre el `peso_inicial`, y luego multiplica el resultado por 100 para obtener el porcentaje. El resultado se almacena en la variable `rendimiento`.\n",
        "\n",
        "13. **`print(f\"El rendimiento de la pulpa es: {rendimiento:.2f}%\")`**\n",
        "    *   **Propósito:** Mostrar el resultado del rendimiento al usuario, formateado como porcentaje.\n",
        "    *   **Cómo funciona:**\n",
        "        *   `f\"...\"`: Es una \"f-string\" (cadena formateada), que permite incrustar expresiones dentro de cadenas de texto.\n",
        "        *   `El rendimiento de la pulpa es: `: Texto literal que se imprime.\n",
        "        *   `{rendimiento:.2f}`: Esto es una expresión dentro de la f-string. Python evalúa la variable `rendimiento` y la formatea:\n",
        "            *   `:`: Introduce las opciones de formato.\n",
        "            *   `.2f`: Indica que se debe formatear como un número de punto flotante (`f`) con exactamente dos decimales (`.2`).\n",
        "        *   `%`: Se imprime el símbolo de porcentaje después del número formateado.\n",
        "\n",
        "14. **`except ValueError:`**\n",
        "    *   **Propósito:** Capturar el error `ValueError` que puede ocurrir si las funciones `float()` (en los pasos 5 y 6) no pueden convertir la entrada del usuario a un número.\n",
        "    *   **Cómo funciona:** Si durante la ejecución del bloque `try` se produce un `ValueError`, la ejecución salta a este bloque `except`, y se ejecuta el código indentado debajo.\n",
        "\n",
        "15. **`print(\"Entrada inválida. Por favor, introduce números válidos para los pesos.\")`**\n",
        "    *   **Propósito:** Informar al usuario que la entrada que proporcionó no era un número válido.\n",
        "    *   **Cómo funciona:** Imprime el mensaje de error específico para entradas inválidas."
      ]
    },
    {
      "cell_type": "code",
      "source": [],
      "metadata": {
        "id": "q0ITR9bUl2L-"
      },
      "execution_count": null,
      "outputs": []
    },
    {
      "cell_type": "markdown",
      "metadata": {
        "id": "12420a95"
      },
      "source": [
        "## Operadores Aritméticos en Python\n",
        "\n",
        "Los operadores aritméticos en Python son símbolos que se utilizan para realizar operaciones matemáticas básicas con valores numéricos (enteros, flotantes, etc.).\n",
        "\n",
        "Aquí tienes una lista de los operadores aritméticos comunes en Python:\n",
        "\n",
        "*   **Suma (`+`)**: Realiza la adición de dos operandos.\n",
        "    *   Ejemplo: `5 + 3` resulta en `8`.\n",
        "*   **Resta (`-`)**: Realiza la sustracción del segundo operando del primero.\n",
        "    *   Ejemplo: `10 - 4` resulta en `6`.\n",
        "*   **Multiplicación (`*`)**: Realiza la multiplicación de dos operandos.\n",
        "    *   Ejemplo: `6 * 7` resulta en `42`.\n",
        "*   **División (`/`)**: Realiza la división del primer operando por el segundo. El resultado siempre es un número flotante (con decimales).\n",
        "    *   Ejemplo: `15 / 3` resulta en `5.0`.\n",
        "*   **Módulo (`%`)**: Devuelve el resto de la división del primer operando por el segundo.\n",
        "    *   Ejemplo: `10 % 3` resulta en `1` (10 dividido por 3 es 3 con un resto de 1).\n",
        "*   **División Entera (`//`)**: Realiza la división del primer operando por el segundo y devuelve la parte entera del resultado. Descarta la parte decimal.\n",
        "    *   Ejemplo: `10 // 3` resulta en `3`. `15 // 4` resulta en `3`.\n",
        "*   **Exponenciación (`**`)**: Realiza la operación de elevar el primer operando a la potencia del segundo operando.\n",
        "    *   Ejemplo: `2 ** 3` resulta en `8` (2 elevado a la potencia de 3).\n",
        "\n",
        "Estos operadores son fundamentales para realizar cálculos en Python."
      ]
    }
  ]
}