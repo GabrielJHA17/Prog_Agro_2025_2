{
  "nbformat": 4,
  "nbformat_minor": 0,
  "metadata": {
    "colab": {
      "provenance": [],
      "authorship_tag": "ABX9TyN6a+LZWzfmEW9zCmJn5knG",
      "include_colab_link": true
    },
    "kernelspec": {
      "name": "python3",
      "display_name": "Python 3"
    },
    "language_info": {
      "name": "python"
    }
  },
  "cells": [
    {
      "cell_type": "markdown",
      "metadata": {
        "id": "view-in-github",
        "colab_type": "text"
      },
      "source": [
        "<a href=\"https://colab.research.google.com/github/GabrielJHA17/Prog_Agro_2025_2/blob/main/semana_4_y_5_Agro.ipynb\" target=\"_parent\"><img src=\"https://colab.research.google.com/assets/colab-badge.svg\" alt=\"Open In Colab\"/></a>"
      ]
    },
    {
      "cell_type": "code",
      "execution_count": null,
      "metadata": {
        "id": "3JqpsvSWwGXU"
      },
      "outputs": [],
      "source": []
    },
    {
      "cell_type": "markdown",
      "metadata": {
        "id": "d36a625c"
      },
      "source": [
        "## Listas, Tuplas y Diccionarios en Python\n",
        "\n",
        "En Python, las listas, tuplas y diccionarios son estructuras de datos fundamentales que se utilizan para almacenar colecciones de elementos. Cada una tiene sus propias características, similitudes y diferencias.\n",
        "\n",
        "### Listas\n",
        "\n",
        "*   **Definición:** Las listas son colecciones ordenadas y mutables de elementos. Pueden contener elementos de diferentes tipos de datos.\n",
        "*   **Sintaxis:** Se definen utilizando corchetes `[]`.\n",
        "*   **Mutabilidad:** Son mutables, lo que significa que se pueden modificar después de su creación (agregar, eliminar o cambiar elementos).\n",
        "*   **Ejemplo:** `mi_lista = [1, \"hola\", 3.14]`\n",
        "\n",
        "### Tuplas\n",
        "\n",
        "*   **Definición:** Las tuplas son colecciones ordenadas e inmutables de elementos. Al igual que las listas, pueden contener elementos de diferentes tipos de datos.\n",
        "*   **Sintaxis:** Se definen utilizando paréntesis `()`.\n",
        "*   **Mutabilidad:** Son inmutables, lo que significa que no se pueden modificar después de su creación.\n",
        "*   **Ejemplo:** `mi_tupla = (1, \"hola\", 3.14)`\n",
        "\n",
        "### Diccionarios\n",
        "\n",
        "*   **Definición:** Los diccionarios son colecciones no ordenadas (en versiones de Python anteriores a 3.7, en versiones posteriores mantienen el orden de inserción) y mutables de pares clave-valor. Cada clave debe ser única.\n",
        "*   **Sintaxis:** Se definen utilizando llaves `{}` con pares clave-valor separados por dos puntos `:`.\n",
        "*   **Mutabilidad:** Son mutables, lo que significa que se pueden modificar después de su creación (agregar, eliminar o cambiar pares clave-valor).\n",
        "*   **Ejemplo:** `mi_diccionario = {\"clave1\": 1, \"clave2\": \"hola\"}`\n",
        "\n",
        "### Similitudes\n",
        "\n",
        "*   Las tres estructuras pueden almacenar colecciones de elementos.\n",
        "*   Pueden contener elementos de diferentes tipos de datos (aunque en los diccionarios, las claves suelen ser de tipos inmutables).\n",
        "*   Se pueden iterar (recorrer) en bucles.\n",
        "\n",
        "### Diferencias\n",
        "\n",
        "| Característica | Lista             | Tupla             | Diccionario        |\n",
        "|----------------|-------------------|-------------------|--------------------|\n",
        "| Mutabilidad    | Mutable           | Inmutable         | Mutable            |\n",
        "| Sintaxis       | `[]`              | `()`              | `{}`               |\n",
        "| Orden          | Ordenada          | Ordenada          | No ordenada (antes de Python 3.7) / Ordenada (después de Python 3.7) |\n",
        "| Acceso a elementos | Por índice        | Por índice        | Por clave          |\n",
        "| Uso principal  | Colecciones que cambian | Colecciones fijas | Mapeo de clave-valor |"
      ]
    },
    {
      "cell_type": "markdown",
      "metadata": {
        "id": "4109b8df"
      },
      "source": [
        "## Funciones, Usos e Importancia de Listas, Tuplas y Diccionarios en Python\n",
        "\n",
        "### Funciones Principales\n",
        "\n",
        "*   **Listas:** Permiten agregar, eliminar, modificar y acceder a elementos por índice. Tienen métodos como `append()`, `extend()`, `insert()`, `remove()`, `pop()`, `sort()`, `reverse()`, entre otros.\n",
        "*   **Tuplas:** Sus funciones son más limitadas debido a su inmutabilidad. Permiten acceder a elementos por índice y realizar operaciones como concatenación y slicing (crear nuevas tuplas a partir de partes de otras). Tienen métodos como `count()` e `index()`.\n",
        "*   **Diccionarios:** Permiten agregar, eliminar, modificar y acceder a elementos por clave. Tienen métodos como `keys()`, `values()`, `items()`, `get()`, `pop()`, `update()`, entre otros.\n",
        "\n",
        "### Usos Comunes\n",
        "\n",
        "*   **Listas:** Ideales para colecciones de elementos donde el orden importa y la colección puede cambiar. Se usan para almacenar secuencias de datos, implementar pilas y colas, y realizar operaciones de filtrado y mapeo.\n",
        "*   **Tuplas:** Perfectas para colecciones de elementos que no deben cambiar, como coordenadas geográficas, registros de bases de datos fijos o valores constantes. Se usan a menudo para devolver múltiples valores desde una función.\n",
        "*   **Diccionarios:** Fundamentales para representar datos estructurados donde se necesita asociar valores con claves únicas. Se usan para almacenar información de configuración, representar objetos con propiedades, contar frecuencias de elementos, y como una forma eficiente de buscar datos por clave.\n",
        "\n",
        "### Importancia\n",
        "\n",
        "La importancia de estas estructuras de datos radica en su capacidad para organizar y gestionar información de manera eficiente en Python.\n",
        "\n",
        "*   **Flexibilidad:** Permiten trabajar con diferentes tipos y tamaños de colecciones de datos.\n",
        "*   **Eficiencia:** Proporcionan métodos y operaciones optimizadas para manipular datos (especialmente los diccionarios para búsquedas rápidas).\n",
        "*   **Organización:** Ayudan a estructurar el código y los datos de manera lógica y comprensible.\n",
        "*   **Versatilidad:** Son la base para muchas otras estructuras de datos y algoritmos en programación.\n",
        "\n",
        "Dominar el uso de listas, tuplas y diccionarios es esencial para cualquier programador de Python, ya que son componentes básicos para construir aplicaciones más complejas."
      ]
    },
    {
      "cell_type": "markdown",
      "source": [
        "# Situación de Interés en Ingeniería Agrícola:\n",
        "\n",
        "Un agrónomo consultor necesita una herramienta\n",
        "rápida para aconsejar a los agricultores sobre qué cultivos sembrar. Se requiere un programa que almacene información de varios cultivos (nombre, mes ideal de siembra, necesidad de agua) y que, al\n",
        "ingresar el nombre de un mes, recomiende qué cultivos son adecuados para sembrar en ese período\n",
        "\n",
        "Caso de Ingeniería Agrícola: Planificador de Cultivos (Listas y Funciones)\n",
        "• Paso a Paso del Código:\n",
        "1. Crear una lista donde cada elemento sea un diccionario. Cada diccionario representará un\n",
        "cultivo y tendrá claves como nombre, mes_siembra y riego.\n",
        "2. Crear una función llamada recomendar_cultivos. Esta función recibirá dos parámetros: la\n",
        "lista completa de cultivos y el mes actual.\n",
        "3. Dentro de la función, usar un bucle for para recorrer la lista de cultivos.\n",
        "4. En cada iteración, usar un if para comprobar si el mes_siembra del cultivo coincide con el mes\n",
        "proporcionado.\n",
        "5. Si coinciden, añadir el nombre del cultivo a una nueva lista de recomendados.\n",
        "6. Al final, la función debe devolver la lista de cultivos recomendados.\n",
        "7. En el programa principal, pedir al usuario el mes y llamar a la función para obtener e imprimir\n",
        "las recomendaciones."
      ],
      "metadata": {
        "id": "qDN-AuNs1nsS"
      }
    },
    {
      "cell_type": "markdown",
      "source": [],
      "metadata": {
        "id": "0yf82Dwp202Y"
      }
    },
    {
      "cell_type": "code",
      "source": [],
      "metadata": {
        "id": "VOUr0noj2oPR"
      },
      "execution_count": null,
      "outputs": []
    },
    {
      "cell_type": "code",
      "metadata": {
        "colab": {
          "base_uri": "https://localhost:8080/"
        },
        "id": "132592ee",
        "outputId": "3e9cabcd-d10b-4d06-967a-72ed08be4e6e"
      },
      "source": [
        "# 1. Crear una lista donde cada elemento sea un diccionario.\n",
        "cultivos = [\n",
        "    {\"nombre\": \"Maíz\", \"mes_siembra\": \"Abril\", \"riego\": \"Moderado\"},\n",
        "    {\"nombre\": \"Trigo\", \"mes_siembra\": \"Octubre\", \"riego\": \"Moderado\"},\n",
        "    {\"nombre\": \"Tomate\", \"mes_siembra\": \"Marzo\", \"riego\": \"Alto\"},\n",
        "    {\"nombre\": \"Lechuga\", \"mes_siembra\": \"Septiembre\", \"riego\": \"Moderado\"},\n",
        "    {\"nombre\": \"Frijol\", \"mes_siembra\": \"Mayo\", \"riego\": \"Bajo\"},\n",
        "    {\"nombre\": \"Papa\", \"mes_siembra\": \"Febrero\", \"riego\": \"Alto\"},\n",
        "]\n",
        "\n",
        "# 2. Crear una función llamada recomendar_cultivos.\n",
        "def recomendar_cultivos(lista_cultivos, mes_actual):\n",
        "    # 5. Si coinciden, añadir el nombre del cultivo a una nueva lista de recomendados.\n",
        "    cultivos_recomendados = []\n",
        "    # 3. Dentro de la función, usar un bucle for para recorrer la lista de cultivos.\n",
        "    for cultivo in lista_cultivos:\n",
        "        # 4. En cada iteración, usar un if para comprobar si el mes_siembra del cultivo coincide con el mes proporcionado.\n",
        "        if cultivo[\"mes_siembra\"].lower() == mes_actual.lower():\n",
        "            cultivos_recomendados.append(cultivo[\"nombre\"])\n",
        "    # 6. Al final, la función debe devolver la lista de cultivos recomendados.\n",
        "    return cultivos_recomendados\n",
        "\n",
        "# 7. En el programa principal, pedir al usuario el mes y llamar a la función para obtener e imprimir las recomendaciones.\n",
        "mes_ingresado = input(\"Ingresa el mes actual (ej. Enero, Febrero): \")\n",
        "\n",
        "recomendaciones = recomendar_cultivos(cultivos, mes_ingresado)\n",
        "\n",
        "if recomendaciones:\n",
        "    print(f\"\\nCultivos recomendados para sembrar en {mes_ingresado}:\")\n",
        "    for cultivo in recomendaciones:\n",
        "        print(f\"- {cultivo}\")\n",
        "else:\n",
        "    print(f\"\\nNo hay cultivos recomendados para sembrar en {mes_ingresado} según los datos.\")"
      ],
      "execution_count": null,
      "outputs": [
        {
          "output_type": "stream",
          "name": "stdout",
          "text": [
            "Ingresa el mes actual (ej. Enero, Febrero): octubre\n",
            "\n",
            "Cultivos recomendados para sembrar en octubre:\n",
            "- Trigo\n"
          ]
        }
      ]
    },
    {
      "cell_type": "markdown",
      "metadata": {
        "id": "dd2e26f5"
      },
      "source": [
        "## Explicación del Código del Planificador de Cultivos (Listas y Funciones)\n",
        "\n",
        "Este código Python implementa un planificador de cultivos simple utilizando **listas** y **funciones** para recomendar cultivos basados en el mes actual.\n",
        "\n",
        "**Uso de Listas:**\n",
        "\n",
        "*   La variable `cultivos` es una **lista**. Cada elemento dentro de esta lista es un **diccionario**. Esta lista actúa como nuestra base de datos para almacenar la información de cada cultivo.\n",
        "*   La variable `cultivos_recomendados` dentro de la función `recomendar_cultivos` también es una **lista**. Esta lista se utiliza para almacenar los nombres de los cultivos que cumplen con el criterio del mes de siembra.\n",
        "*   El bucle `for cultivo in lista_cultivos:` itera sobre los elementos (diccionarios) de la **lista** de cultivos.\n",
        "*   El bucle `for cultivo in recomendaciones:` itera sobre los nombres de los cultivos almacenados en la **lista** `recomendaciones` para imprimirlos.\n",
        "\n",
        "**Uso de Funciones:**\n",
        "\n",
        "*   Se define una **función** llamada `recomendar_cultivos`. Las funciones nos permiten agrupar un conjunto de instrucciones que realizan una tarea específica (en este caso, encontrar cultivos recomendados para un mes dado).\n",
        "*   La función recibe dos argumentos: la **lista** de cultivos (`lista_cultivos`) y el mes actual (`mes_actual`). Esto hace que la función sea reutilizable para cualquier lista de cultivos y cualquier mes.\n",
        "*   La lógica para filtrar los cultivos por mes de siembra está encapsulada dentro de esta **función**.\n",
        "*   La función `return cultivos_recomendados` devuelve la **lista** de cultivos que coinciden con el mes especificado, permitiendo que el programa principal utilice este resultado.\n",
        "\n",
        "**Funcionamiento General del Código:**\n",
        "\n",
        "1.  Se inicializa una **lista** (`cultivos`) que contiene diccionarios con los datos de cada cultivo.\n",
        "2.  Se define una **función** (`recomendar_cultivos`) que toma la lista de cultivos y un mes como entrada.\n",
        "3.  Dentro de la **función**, se recorre la **lista** de cultivos.\n",
        "4.  Para cada cultivo, se verifica si el mes de siembra coincide con el mes proporcionado (ignorando mayúsculas/minúsculas).\n",
        "5.  Si coincide, el nombre del cultivo se añade a una **lista** de recomendados.\n",
        "6.  La **función** devuelve la **lista** de cultivos recomendados.\n",
        "7.  En la parte principal del código, se pide al usuario que ingrese un mes.\n",
        "8.  Se llama a la **función** `recomendar_cultivos` con la lista de cultivos y el mes ingresado.\n",
        "9.  Finalmente, se comprueba si la **lista** de recomendaciones devuelta por la **función** está vacía y se imprime un mensaje apropiado, listando los cultivos recomendados si los hay.\n",
        "\n",
        "Este código demuestra cómo las **listas** son útiles para almacenar colecciones de datos estructurados (usando diccionarios como elementos) y cómo las **funciones** ayudan a organizar el código y realizar tareas específicas de manera modular y reutilizable."
      ]
    },
    {
      "cell_type": "markdown",
      "source": [
        "# Situación 2: Función para Validar Parámetros de Calidad\n",
        "Una planta recibe lotes de fruta y debe validar si cumplen con los parámetros de pH y grados Brix para ser aceptados. Crearás una función que centralice esta lógica de validación.\n",
        "• Paso a Paso del Código (Guía para el Notebook)\n",
        "1.  Definir una función 'validar_lote' que tome dos parámetros: 'ph' y 'brix'.\n",
        "2.  Dentro de la función, usar una estructura 'if' para verificar si el pH está entre 3.5 y 4.5 Y si los grados Brix son mayores a 12.\n",
        "3.  Si ambas condiciones se cumplen, la función debe devolver el valor booleano\n",
        "True.\n",
        "4.  De lo contrario (else), la función debe devolver el valor booleano False.\n",
        "5.  En el programa principal, pedir al usuario el pH y los grados Brix del lote\n",
        "actual.\n",
        "6.  Llamar a la función 'validar_lote' con los datos ingresados y guardar el\n",
        "resultado (True/False) en una variable.\n",
        "7.  Usar un 'if' en el programa principal para comprobar el valor de esa variable.\n",
        "8. Si la variable es True, imprimir \"Lote APROBADO\". Si es False, imprimir \"Lote\n",
        "RECHAZADO\".\n"
      ],
      "metadata": {
        "id": "XNM83gXg63BN"
      }
    },
    {
      "cell_type": "code",
      "source": [],
      "metadata": {
        "id": "UwLL8R-r7ImU"
      },
      "execution_count": null,
      "outputs": []
    },
    {
      "cell_type": "code",
      "metadata": {
        "colab": {
          "base_uri": "https://localhost:8080/"
        },
        "id": "ddc03c35",
        "outputId": "7979ed83-4018-4db1-c0cc-6c89e45ab170"
      },
      "source": [
        "# 1. Definir una función 'validar_lote' que tome dos parámetros: 'ph' y 'brix'.\n",
        "def validar_lote(ph, brix):\n",
        "    # 2. Dentro de la función, usar una estructura 'if' para verificar si el pH está entre 3.5 y 4.5 Y si los grados Brix son mayores a 12.\n",
        "    if 3.5 <= ph <= 4.5 and brix > 12:\n",
        "        # 3. Si ambas condiciones se cumplen, la función debe devolver el valor booleano True.\n",
        "        return True\n",
        "    # 4. De lo contrario (else), la función debe devolver el valor booleano False.\n",
        "    else:\n",
        "        return False\n",
        "\n",
        "# 5. En el programa principal, pedir al usuario el pH y los grados Brix del lote actual.\n",
        "try:\n",
        "    ph_ingresado = float(input(\"Ingresa el valor de pH del lote: \"))\n",
        "    brix_ingresado = float(input(\"Ingresa el valor de grados Brix del lote: \"))\n",
        "\n",
        "    # 6. Llamar a la función 'validar_lote' con los datos ingresados y guardar el resultado (True/False) en una variable.\n",
        "    lote_aprobado = validar_lote(ph_ingresado, brix_ingresado)\n",
        "\n",
        "    # 7. Usar un 'if' en el programa principal para comprobar el valor de esa variable.\n",
        "    # 8. Si la variable es True, imprimir \"Lote APROBADO\". Si es False, imprimir \"Lote RECHAZADO\".\n",
        "    if lote_aprobado:\n",
        "        print(\"\\nLote APROBADO\")\n",
        "    else:\n",
        "        print(\"\\nLote RECHAZADO\")\n",
        "\n",
        "except ValueError:\n",
        "    print(\"\\nEntrada inválida. Por favor, ingresa valores numéricos para pH y Brix.\")"
      ],
      "execution_count": null,
      "outputs": [
        {
          "output_type": "stream",
          "name": "stdout",
          "text": [
            "Ingresa el valor de pH del lote: 4\n",
            "Ingresa el valor de grados Brix del lote: 13\n",
            "\n",
            "Lote APROBADO\n"
          ]
        }
      ]
    },
    {
      "cell_type": "markdown",
      "metadata": {
        "id": "ca0bacbc"
      },
      "source": [
        "## Explicación Paso a Paso del Código: Función para Validar Parámetros de Calidad\n",
        "\n",
        "Este código Python se divide en dos partes principales: la definición de una función para validar los parámetros de calidad y el programa principal que interactúa con el usuario.\n",
        "\n",
        "**Fragmento 1: Definición de la Función `validar_lote(ph, brix)`**"
      ]
    },
    {
      "cell_type": "code",
      "metadata": {
        "id": "2b49dce7"
      },
      "source": [
        "    if 3.5 <= ph <= 4.5 and brix > 12:\n",
        "        return True\n",
        "    else:\n",
        "        return False"
      ],
      "execution_count": null,
      "outputs": []
    },
    {
      "cell_type": "code",
      "metadata": {
        "id": "f1c065de"
      },
      "source": [
        "try:\n",
        "    ph_ingresado = float(input(\"Ingresa el valor de pH del lote: \"))\n",
        "    brix_ingresado = float(input(\"Ingresa el valor de grados Brix del lote: \"))\n",
        "\n",
        "    lote_aprobado = validar_lote(ph_ingresado, brix_ingresado)\n",
        "\n",
        "    # ... (manejo del resultado)\n",
        "\n",
        "except ValueError:\n",
        "    print(\"\\nEntrada inválida. Por favor, ingresa valores numéricos para pH y Brix.\")"
      ],
      "execution_count": null,
      "outputs": []
    },
    {
      "cell_type": "code",
      "metadata": {
        "id": "464e77a8"
      },
      "source": [
        "    if lote_aprobado:\n",
        "        print(\"\\nLote APROBADO\")\n",
        "    else:\n",
        "        print(\"\\nLote RECHAZADO\")"
      ],
      "execution_count": null,
      "outputs": []
    },
    {
      "cell_type": "markdown",
      "source": [
        "# Situación 1: Ficha Técnica de un Producto\n",
        "Se necesita un programa para almacenar y mostrar la información clave de un producto alimenticio, como su nombre, lote, fecha de vencimiento y porcentaje de humedad. Un diccionario es perfecto para esto, ya que cada dato tiene una etiqueta clara.\n",
        "• Paso a Paso del Código (Guía para el Notebook)\n",
        "1.  Crear un diccionario vacío llamado 'ficha_producto'.\n",
        "2.  Pedir al usuario el nombre del producto y guardarlo en el diccionario con la\n",
        "clave 'nombre'.\n",
        "3.  Pedir el número de lote y guardarlo con la clave 'lote'.\n",
        "4.  Pedir la fecha de vencimiento y guardarla con la clave 'vencimiento'.\n",
        "5.  Pedir el porcentaje de humedad y guardarlo con la clave 'humedad'.\n",
        "6.  Mostrar un encabezado que diga \"--- Ficha Técnica del Producto ---\".\n",
        "7.  Imprimir cada uno de los valores del diccionario accediendo a ellos a través de sus claves (ej. ficha_producto['nombre'])."
      ],
      "metadata": {
        "id": "9ec9b3-s-bAK"
      }
    },
    {
      "cell_type": "code",
      "source": [],
      "metadata": {
        "id": "-BA8RVx1-kyJ"
      },
      "execution_count": null,
      "outputs": []
    },
    {
      "cell_type": "code",
      "metadata": {
        "colab": {
          "base_uri": "https://localhost:8080/"
        },
        "id": "3cd063eb",
        "outputId": "be8d2173-5ef4-495e-fcb2-d0b70751fd59"
      },
      "source": [
        "# 1. Crear un diccionario vacío llamado 'ficha_producto'.\n",
        "ficha_producto = {}\n",
        "\n",
        "while True:\n",
        "    print(\"\\n--- Ingresa los datos del Producto ---\")\n",
        "    # 2. Pedir al usuario el nombre del producto y guardarlo en el diccionario con la clave 'nombre'.\n",
        "    nombre = input(\"Ingresa el nombre del producto (o escribe 'fin' para terminar): \")\n",
        "    if nombre.lower() == 'fin':\n",
        "        break\n",
        "\n",
        "    ficha_producto['nombre'] = nombre\n",
        "\n",
        "    # 3. Pedir el número de lote y guardarlo con la clave 'lote'.\n",
        "    ficha_producto['lote'] = input(\"Ingresa el número de lote: \")\n",
        "\n",
        "    # 4. Pedir la fecha de vencimiento y guardarla con la clave 'vencimiento'.\n",
        "    ficha_producto['vencimiento'] = input(\"Ingresa la fecha de vencimiento: \")\n",
        "\n",
        "    # 5. Pedir el porcentaje de humedad y guardarlo con la clave 'humedad'.\n",
        "    ficha_producto['humedad'] = input(\"Ingresa el porcentaje de humedad: \")\n",
        "\n",
        "    # Opcional: Mostrar la ficha del producto ingresado inmediatamente\n",
        "    print(\"\\n--- Ficha Técnica del Producto Ingresado ---\")\n",
        "    print(f\"Nombre: {ficha_producto.get('nombre', 'N/A')}\")\n",
        "    print(f\"Lote: {ficha_producto.get('lote', 'N/A')}\")\n",
        "    print(f\"Fecha de Vencimiento: {ficha_producto.get('vencimiento', 'N/A')}\")\n",
        "    print(f\"Porcentaje de Humedad: {ficha_producto.get('humedad', 'N/A')}\")\n",
        "\n",
        "# El bucle finaliza cuando el usuario ingresa 'fin' para el nombre.\n",
        "print(\"\\nPrograma finalizado.\")\n",
        "\n",
        "# Nota: Si deseas almacenar múltiples fichas de producto, necesitarías una lista de diccionarios."
      ],
      "execution_count": null,
      "outputs": [
        {
          "output_type": "stream",
          "name": "stdout",
          "text": [
            "\n",
            "--- Ingresa los datos del Producto ---\n",
            "Ingresa el nombre del producto (o escribe 'fin' para terminar): mango\n",
            "Ingresa el número de lote: 123\n",
            "Ingresa la fecha de vencimiento: 12/12/2027\n",
            "Ingresa el porcentaje de humedad: 78\n",
            "\n",
            "--- Ficha Técnica del Producto Ingresado ---\n",
            "Nombre: mango\n",
            "Lote: 123\n",
            "Fecha de Vencimiento: 12/12/2027\n",
            "Porcentaje de Humedad: 78\n",
            "\n",
            "--- Ingresa los datos del Producto ---\n",
            "Ingresa el nombre del producto (o escribe 'fin' para terminar): yuca\n",
            "Ingresa el número de lote: 124\n",
            "Ingresa la fecha de vencimiento: 12/12/2027\n",
            "Ingresa el porcentaje de humedad: 80\n",
            "\n",
            "--- Ficha Técnica del Producto Ingresado ---\n",
            "Nombre: yuca\n",
            "Lote: 124\n",
            "Fecha de Vencimiento: 12/12/2027\n",
            "Porcentaje de Humedad: 80\n",
            "\n",
            "--- Ingresa los datos del Producto ---\n",
            "Ingresa el nombre del producto (o escribe 'fin' para terminar): fin\n",
            "\n",
            "Programa finalizado.\n"
          ]
        }
      ]
    },
    {
      "cell_type": "code",
      "source": [],
      "metadata": {
        "id": "Huix8wjC_0fA"
      },
      "execution_count": null,
      "outputs": []
    },
    {
      "cell_type": "markdown",
      "metadata": {
        "id": "8a4e661a"
      },
      "source": [
        "# Task\n",
        "Escribe un código de python que resuelva la situación de validación de parámetros de calidad, solicitando indefinidamente los datos y finalizando cuando el digitador lo desee, y que almacene todos los datos ingresados en un archivo de Excel."
      ]
    },
    {
      "cell_type": "markdown",
      "metadata": {
        "id": "a1a37514"
      },
      "source": [
        "## Modificar la estructura de datos\n",
        "\n",
        "### Subtask:\n",
        "Modify the data structure to store multiple product quality validation results.\n"
      ]
    },
    {
      "cell_type": "markdown",
      "metadata": {
        "id": "1ac9034a"
      },
      "source": [
        "**Reasoning**:\n",
        "The subtask requires modifying the existing code to store multiple validation results. I will add a list to store the results and modify the loop to collect data for each lot and append it to the list.\n",
        "\n"
      ]
    },
    {
      "cell_type": "code",
      "metadata": {
        "id": "22458500",
        "outputId": "f7e7ddeb-4719-44fe-e898-b98dfe1e25cc",
        "colab": {
          "base_uri": "https://localhost:8080/",
          "height": 412
        }
      },
      "source": [
        "# 1. Initialize an empty list called 'lotes_validados'.\n",
        "lotes_validados = []\n",
        "\n",
        "# 5. In the program principal, pedir al usuario el pH y los grados Brix del lote actual.\n",
        "while True:\n",
        "    print(\"\\n--- Ingresa los datos del Lote ---\")\n",
        "    try:\n",
        "        ph_ingresado_str = input(\"Ingresa el valor de pH del lote (o escribe 'fin' para terminar): \")\n",
        "        if ph_ingresado_str.lower() == 'fin':\n",
        "            break\n",
        "        ph_ingresado = float(ph_ingresado_str)\n",
        "\n",
        "        brix_ingresado_str = input(\"Ingresa el valor de grados Brix del lote (o escribe 'fin' para terminar): \")\n",
        "        if brix_ingresado_str.lower() == 'fin':\n",
        "            break\n",
        "        brix_ingresado = float(brix_ingresado_str)\n",
        "\n",
        "        # 6. Llamar a la función 'validar_lote' con los datos ingresados y guardar el resultado (True/False) en una variable.\n",
        "        lote_aprobado = validar_lote(ph_ingresado, brix_ingresado)\n",
        "\n",
        "        # 2. Create a dictionary to hold the data and validation result for the current lot.\n",
        "        lote_data = {\n",
        "            'pH': ph_ingresado,\n",
        "            'Brix': brix_ingresado,\n",
        "            # 3. Add the 'Estado Lote' key to the dictionary\n",
        "            'Estado Lote': \"APROBADO\" if lote_aprobado else \"RECHAZADO\"\n",
        "        }\n",
        "\n",
        "        # 4. Append this dictionary representing the current lot's data and validation result to the lotes_validados list.\n",
        "        lotes_validados.append(lote_data)\n",
        "\n",
        "        # 7. Usar un 'if' en el programa principal para comprobar el valor de esa variable.\n",
        "        # 8. Si la variable es True, imprimir \"Lote APROBADO\". Si es False, imprimir \"Lote RECHAZADO\".\n",
        "        if lote_aprobado:\n",
        "            print(\"\\nLote APROBADO\")\n",
        "        else:\n",
        "            print(\"\\nLote RECHAZADO\")\n",
        "\n",
        "    except ValueError:\n",
        "        print(\"\\nEntrada inválida. Por favor, ingresa valores numéricos para pH y Brix.\")\n",
        "\n",
        "print(\"\\nPrograma finalizado.\")\n"
      ],
      "execution_count": null,
      "outputs": [
        {
          "output_type": "stream",
          "name": "stdout",
          "text": [
            "\n",
            "--- Ingresa los datos del Lote ---\n"
          ]
        },
        {
          "output_type": "error",
          "ename": "KeyboardInterrupt",
          "evalue": "Interrupted by user",
          "traceback": [
            "\u001b[0;31m---------------------------------------------------------------------------\u001b[0m",
            "\u001b[0;31mKeyboardInterrupt\u001b[0m                         Traceback (most recent call last)",
            "\u001b[0;32m/tmp/ipython-input-969813719.py\u001b[0m in \u001b[0;36m<cell line: 0>\u001b[0;34m()\u001b[0m\n\u001b[1;32m      6\u001b[0m     \u001b[0mprint\u001b[0m\u001b[0;34m(\u001b[0m\u001b[0;34m\"\\n--- Ingresa los datos del Lote ---\"\u001b[0m\u001b[0;34m)\u001b[0m\u001b[0;34m\u001b[0m\u001b[0;34m\u001b[0m\u001b[0m\n\u001b[1;32m      7\u001b[0m     \u001b[0;32mtry\u001b[0m\u001b[0;34m:\u001b[0m\u001b[0;34m\u001b[0m\u001b[0;34m\u001b[0m\u001b[0m\n\u001b[0;32m----> 8\u001b[0;31m         \u001b[0mph_ingresado_str\u001b[0m \u001b[0;34m=\u001b[0m \u001b[0minput\u001b[0m\u001b[0;34m(\u001b[0m\u001b[0;34m\"Ingresa el valor de pH del lote (o escribe 'fin' para terminar): \"\u001b[0m\u001b[0;34m)\u001b[0m\u001b[0;34m\u001b[0m\u001b[0;34m\u001b[0m\u001b[0m\n\u001b[0m\u001b[1;32m      9\u001b[0m         \u001b[0;32mif\u001b[0m \u001b[0mph_ingresado_str\u001b[0m\u001b[0;34m.\u001b[0m\u001b[0mlower\u001b[0m\u001b[0;34m(\u001b[0m\u001b[0;34m)\u001b[0m \u001b[0;34m==\u001b[0m \u001b[0;34m'fin'\u001b[0m\u001b[0;34m:\u001b[0m\u001b[0;34m\u001b[0m\u001b[0;34m\u001b[0m\u001b[0m\n\u001b[1;32m     10\u001b[0m             \u001b[0;32mbreak\u001b[0m\u001b[0;34m\u001b[0m\u001b[0;34m\u001b[0m\u001b[0m\n",
            "\u001b[0;32m/usr/local/lib/python3.12/dist-packages/ipykernel/kernelbase.py\u001b[0m in \u001b[0;36mraw_input\u001b[0;34m(self, prompt)\u001b[0m\n\u001b[1;32m   1175\u001b[0m                 \u001b[0;34m\"raw_input was called, but this frontend does not support input requests.\"\u001b[0m\u001b[0;34m\u001b[0m\u001b[0;34m\u001b[0m\u001b[0m\n\u001b[1;32m   1176\u001b[0m             )\n\u001b[0;32m-> 1177\u001b[0;31m         return self._input_request(\n\u001b[0m\u001b[1;32m   1178\u001b[0m             \u001b[0mstr\u001b[0m\u001b[0;34m(\u001b[0m\u001b[0mprompt\u001b[0m\u001b[0;34m)\u001b[0m\u001b[0;34m,\u001b[0m\u001b[0;34m\u001b[0m\u001b[0;34m\u001b[0m\u001b[0m\n\u001b[1;32m   1179\u001b[0m             \u001b[0mself\u001b[0m\u001b[0;34m.\u001b[0m\u001b[0m_parent_ident\u001b[0m\u001b[0;34m[\u001b[0m\u001b[0;34m\"shell\"\u001b[0m\u001b[0;34m]\u001b[0m\u001b[0;34m,\u001b[0m\u001b[0;34m\u001b[0m\u001b[0;34m\u001b[0m\u001b[0m\n",
            "\u001b[0;32m/usr/local/lib/python3.12/dist-packages/ipykernel/kernelbase.py\u001b[0m in \u001b[0;36m_input_request\u001b[0;34m(self, prompt, ident, parent, password)\u001b[0m\n\u001b[1;32m   1217\u001b[0m             \u001b[0;32mexcept\u001b[0m \u001b[0mKeyboardInterrupt\u001b[0m\u001b[0;34m:\u001b[0m\u001b[0;34m\u001b[0m\u001b[0;34m\u001b[0m\u001b[0m\n\u001b[1;32m   1218\u001b[0m                 \u001b[0;31m# re-raise KeyboardInterrupt, to truncate traceback\u001b[0m\u001b[0;34m\u001b[0m\u001b[0;34m\u001b[0m\u001b[0m\n\u001b[0;32m-> 1219\u001b[0;31m                 \u001b[0;32mraise\u001b[0m \u001b[0mKeyboardInterrupt\u001b[0m\u001b[0;34m(\u001b[0m\u001b[0;34m\"Interrupted by user\"\u001b[0m\u001b[0;34m)\u001b[0m \u001b[0;32mfrom\u001b[0m \u001b[0;32mNone\u001b[0m\u001b[0;34m\u001b[0m\u001b[0;34m\u001b[0m\u001b[0m\n\u001b[0m\u001b[1;32m   1220\u001b[0m             \u001b[0;32mexcept\u001b[0m \u001b[0mException\u001b[0m\u001b[0;34m:\u001b[0m\u001b[0;34m\u001b[0m\u001b[0;34m\u001b[0m\u001b[0m\n\u001b[1;32m   1221\u001b[0m                 \u001b[0mself\u001b[0m\u001b[0;34m.\u001b[0m\u001b[0mlog\u001b[0m\u001b[0;34m.\u001b[0m\u001b[0mwarning\u001b[0m\u001b[0;34m(\u001b[0m\u001b[0;34m\"Invalid Message:\"\u001b[0m\u001b[0;34m,\u001b[0m \u001b[0mexc_info\u001b[0m\u001b[0;34m=\u001b[0m\u001b[0;32mTrue\u001b[0m\u001b[0;34m)\u001b[0m\u001b[0;34m\u001b[0m\u001b[0;34m\u001b[0m\u001b[0m\n",
            "\u001b[0;31mKeyboardInterrupt\u001b[0m: Interrupted by user"
          ]
        }
      ]
    }
  ]
}