{
  "nbformat": 4,
  "nbformat_minor": 0,
  "metadata": {
    "colab": {
      "provenance": [],
      "authorship_tag": "ABX9TyMkslUfDH+SQNiZmYEkIH/B",
      "include_colab_link": true
    },
    "kernelspec": {
      "name": "python3",
      "display_name": "Python 3"
    },
    "language_info": {
      "name": "python"
    }
  },
  "cells": [
    {
      "cell_type": "markdown",
      "metadata": {
        "id": "view-in-github",
        "colab_type": "text"
      },
      "source": [
        "<a href=\"https://colab.research.google.com/github/GabrielJHA17/Prog_Agro_2025_2/blob/main/Semana_2_3.ipynb\" target=\"_parent\"><img src=\"https://colab.research.google.com/assets/colab-badge.svg\" alt=\"Open In Colab\"/></a>"
      ]
    },
    {
      "cell_type": "markdown",
      "source": [
        "#Situación 1: Clasificador de pH del Suelo\n",
        "\n",
        "El pH del suelo es un factor crítico para la absorción de nutrientes por parte de las plantas. Desarrollarás un programa que recibe un valor de pH e informa al agricultor si el suelo es ácido, neutro o alcalino, ofreciendo una recomendación general.\n",
        "\n",
        "• Paso a Paso del Código (Guía para el Notebook)\n",
        "\n",
        "1. Explicar al usuario que el programa clasifica el pH del suelo.\n",
        "\n",
        "2. Pedir al usuario que ingrese el valor de pH medido (puede ser decimal).\n",
        "\n",
        "3. Guardar el valor en una variable.\n",
        "\n",
        "4. Utilizar una estructura 'if' para la primera condición: si el pH es menor que 6.5.\n",
        "\n",
        "\n",
        "5. Dentro del 'if', mostrar un mensaje indicando que el suelo es \"Ácido\" y recomendar el uso de cal agrícola.\n",
        "\n",
        "6. Utilizar una estructura 'elif' para la segunda condición: si el pH es mayor que 7.5.\n",
        "\n",
        "7. Dentro del 'elif', mostrar un mensaje indicando que el suelo es \"Alcalino\" y recomendar el uso de sulfato.\n",
        "\n",
        "8. Utilizar una estructura 'else' para el caso restante (entre 6.5 y 7.5).\n",
        "\n",
        "9. Dentro del 'else', mostrar un mensaje indicando que el suelo es \"Neutro\" y que es ideal para la mayoría de los cultivos."
      ],
      "metadata": {
        "id": "AHllA_pMWlE6"
      }
    },
    {
      "cell_type": "code",
      "source": [
        "# 1. Explicar al usuario que el programa clasifica el pH del suelo.\n",
        "print(\"Este programa clasifica el pH del suelo y ofrece una recomendación general.\")\n",
        "\n",
        "# 2. Pedir al usuario que ingrese el valor de pH medido (puede ser decimal).\n",
        "# 3. Guardar el valor en una variable.\n",
        "try:\n",
        "    ph_value_str = input(\"Por favor, ingresa el valor de pH medido: \")\n",
        "    ph_value = float(ph_value_str)\n",
        "\n",
        "    # 4. Utilizar una estructura 'if' para la primera condición: si el pH es menor que 6.5.\n",
        "    if ph_value < 6.5:\n",
        "        # 5. Dentro del 'if', mostrar un mensaje indicando que el suelo es \"Ácido\" y recomendar el uso de cal agrícola.\n",
        "        print(\"El suelo es Ácido.\")\n",
        "        print(\"Recomendación: Considera el uso de cal agrícola para aumentar el pH.\")\n",
        "    # 6. Utilizar una estructura 'elif' para la segunda condición: si el pH es mayor que 7.5.\n",
        "    elif ph_value > 7.5:\n",
        "        # 7. Dentro del 'elif', mostrar un mensaje indicando que el suelo es \"Alcalino\" y recomendar el uso de sulfato.\n",
        "        print(\"El suelo es Alcalino.\")\n",
        "        print(\"Recomendación: Considera el uso de sulfato para disminuir el pH.\")\n",
        "    # 8. Utilizar una estructura 'else' para el caso restante (entre 6.5 y 7.5).\n",
        "    else:\n",
        "        # 9. Dentro del 'else', mostrar un mensaje indicando que el suelo es \"Neutro\" y que es ideal para la mayoría de los cultivos.\n",
        "        print(\"El suelo es Neutro.\")\n",
        "        print(\"Es ideal para la mayoría de los cultivos.\")\n",
        "\n",
        "except ValueError:\n",
        "    print(\"Entrada inválida. Por favor, ingresa un número para el valor de pH.\")"
      ],
      "metadata": {
        "colab": {
          "base_uri": "https://localhost:8080/"
        },
        "id": "IPkxPhbfYyOJ",
        "outputId": "eebfef1f-7761-4bdf-b5b6-bf3280b74f5b"
      },
      "execution_count": 1,
      "outputs": [
        {
          "output_type": "stream",
          "name": "stdout",
          "text": [
            "Este programa clasifica el pH del suelo y ofrece una recomendación general.\n",
            "Por favor, ingresa el valor de pH medido: 4.5\n",
            "El suelo es Ácido.\n",
            "Recomendación: Considera el uso de cal agrícola para aumentar el pH.\n"
          ]
        }
      ]
    },
    {
      "cell_type": "code",
      "source": [],
      "metadata": {
        "id": "0ErrTrnHZfdb"
      },
      "execution_count": null,
      "outputs": []
    },
    {
      "cell_type": "markdown",
      "metadata": {
        "id": "01b4c433"
      },
      "source": [
        "Este código clasifica el pH del suelo basándose en el valor ingresado por el usuario, siguiendo los pasos definidos en la Situación 1:\n",
        "\n",
        "1.  **Mensaje Inicial:** Se imprime un mensaje para informar al usuario que el programa clasificará el pH del suelo y ofrecerá una recomendación general.\n",
        "2.  **Solicitud de pH:** Se le pide al usuario que ingrese el valor de pH medido.\n",
        "3.  **Guardar el valor y Manejo de Errores:** El valor ingresado por el usuario se lee como una cadena de texto. Luego, se intenta convertir esta cadena a un número decimal (`float`) utilizando un bloque `try-except`. Si la conversión falla (porque la entrada no es un número válido), se captura la excepción `ValueError` y se imprime un mensaje de error.\n",
        "4.  **Clasificación del pH (Estructura `if-elif-else`):**\n",
        "    *   **Condición 1 (`if ph_value < 6.5`):** Se verifica si el valor de pH es menor que 6.5. Si es `True`, se imprime que el suelo es \"Ácido\" y se recomienda el uso de cal agrícola. Una vez que esta condición es `True` y se ejecuta su bloque de código, el resto de las condiciones (`elif` y `else`) se saltan.\n",
        "    *   **Condición 2 (`elif ph_value > 7.5`):** Si la primera condición (`if`) fue `False`, se verifica si el valor de pH es mayor que 7.5. Si es `True`, se imprime que el suelo es \"Alcalino\" y se recomienda el uso de sulfato. Al igual que con el `if`, si esta condición es `True`, se ejecuta su bloque y se salta el `else`.\n",
        "    *   **Caso Restante (`else`):** Si ninguna de las condiciones anteriores (`if` y `elif`) fue `True`, significa que el valor de pH está entre 6.5 y 7.5 (inclusive). En este caso, se ejecuta el bloque `else`, se imprime que el suelo es \"Neutro\" y se indica que es ideal para la mayoría de los cultivos.\n",
        "\n",
        "Esta estructura `if-elif-else` asegura que solo se ejecute una de las tres ramas de código, dependiendo del rango en el que caiga el valor de pH ingresado."
      ]
    },
    {
      "cell_type": "markdown",
      "metadata": {
        "id": "8cdd9ca2"
      },
      "source": [
        "### Operadores de Comparación en Python\n",
        "\n",
        "Los operadores de comparación se utilizan para comparar dos valores y devolver un resultado booleano (`True` o `False`).\n",
        "\n",
        "*   **`<` (menor que):** Devuelve `True` si el operando de la izquierda es menor que el operando de la derecha.\n",
        "    *   Ejemplo: `5 < 10` devuelve `True`\n",
        "*   **`>` (mayor que):** Devuelve `True` si el operando de la izquierda es mayor que el operando de la derecha.\n",
        "    *   Ejemplo: `10 > 5` devuelve `True`\n",
        "*   **`==` (igual a):** Devuelve `True` si ambos operandos son iguales.\n",
        "    *   Ejemplo: `5 == 5` devuelve `True`, `5 == 10` devuelve `False`\n",
        "*   **`<=` (menor o igual que):** Devuelve `True` si el operando de la izquierda es menor o igual que el operando de la derecha.\n",
        "    *   Ejemplo: `5 <= 5` devuelve `True`, `5 <= 3` devuelve `False`\n",
        "*   **`>=` (mayor o igual que):** Devuelve `True` si el operando de la izquierda es mayor o igual que el operando de la derecha.\n",
        "    *   Ejemplo: `10 >= 5` devuelve `True`, `5 >= 10` devuelve `False`\n",
        "*   **`!=` (diferente de):** Devuelve `True` si ambos operandos no son iguales.\n",
        "    *   Ejemplo: `5 != 10` devuelve `True`, `5 != 5` devuelve `False`\n",
        "\n",
        "### Diferencia entre `elif` y Múltiples `if`\n",
        "\n",
        "Ambos `elif` y múltiples `if` permiten evaluar varias condiciones, pero funcionan de manera diferente:\n",
        "\n",
        "*   **`elif` (else if):** Se utiliza para encadenar múltiples condiciones. Cuando se encuentra una condición `elif` que es `True`, el bloque de código dentro de ese `elif` se ejecuta y **el resto de las condiciones `elif` y el `else` (si existe) se saltan**. Esto asegura que solo se ejecute un bloque de código de toda la estructura `if-elif-else`.\n",
        "    *   Es útil cuando las condiciones son mutuamente excluyentes (solo una puede ser `True` a la vez).\n",
        "\n",
        "*   **Múltiples `if` seguidos:** Cada sentencia `if` se evalúa de forma independiente. Si tienes múltiples `if` seguidos, Python verificará la condición de cada `if`, y si la condición es `True`, ejecutará el bloque de código correspondiente. Esto significa que **se pueden ejecutar varios bloques de código** si las condiciones de múltiples `if` son `True`.\n",
        "    *   Es útil cuando las condiciones no son mutuamente excluyentes y es posible que más de una condición sea `True`.\n",
        "\n",
        "En resumen, `elif` es más eficiente y claro cuando solo quieres que se ejecute una de varias opciones, mientras que múltiples `if` se usan cuando necesitas evaluar cada condición por separado y potencialmente ejecutar varios bloques de código."
      ]
    },
    {
      "cell_type": "markdown",
      "metadata": {
        "id": "2dcd2611"
      },
      "source": [
        "Este código clasifica el pH del suelo basándose en el valor ingresado por el usuario:\n",
        "\n",
        "1.  **Mensaje Inicial:** Imprime un mensaje explicando el propósito del programa.\n",
        "2.  **Solicitud de pH:** Pide al usuario que ingrese el valor de pH y lo guarda como texto.\n",
        "3.  **Conversión a Número y Manejo de Errores:** Intenta convertir el texto ingresado a un número decimal (`float`). Si la entrada no es un número válido, muestra un mensaje de error.\n",
        "4.  **Clasificación del pH:**\n",
        "    *   Si el valor de pH es menor que 6.5, imprime que el suelo es \"Ácido\" y recomienda usar cal agrícola.\n",
        "    *   Si el valor de pH es mayor que 7.5, imprime que el suelo es \"Alcalino\" y recomienda usar sulfato.\n",
        "    *   Si el valor de pH está entre 6.5 y 7.5 (inclusive), imprime que el suelo es \"Neutro\" e indica que es ideal para la mayoría de los cultivos."
      ]
    },
    {
      "cell_type": "markdown",
      "source": [
        "#Situación 2: Simulación de Crecimiento de un Cultivo.\n",
        "\n",
        "Un agrónomo quiere simular el crecimiento en altura de una planta durante 5 semanas. La planta crece a una tasa diferente cada semana. El programa debe solicitar la tasa de crecimiento de cada semana y mostrar la altura total al final.\n",
        "\n",
        "\n",
        "1. Inicializar una variable para la altura total de la planta en cero.\n",
        "2. Mostrar un mensaje que indique que se simulará el crecimiento durante 5 semanas.\n",
        "\n",
        "3. Crear un bucle 'for' que se repita 5 veces (una por cada semana).\n",
        "\n",
        "4. Dentro del bucle, pedir al usuario el crecimiento de la planta para la semana actual (ej. \"Ingrese el crecimiento en cm para la semana 1:\").\n",
        "\n",
        "5. Sumar el crecimiento ingresado a la variable de altura total.\n",
        "\n",
        "6. Después de que el bucle termine, mostrar la altura total acumulada de la planta."
      ],
      "metadata": {
        "id": "nCF6V8_gaxji"
      }
    },
    {
      "cell_type": "code",
      "source": [
        "# 1. Inicializar una variable para la altura total de la planta en cero.\n",
        "altura_total = 0\n",
        "\n",
        "# 2. Mostrar un mensaje que indique que se simulará el crecimiento durante 5 semanas.\n",
        "print(\"Simulación de crecimiento de la planta durante 5 semanas.\")\n",
        "\n",
        "# 3. Crear un bucle 'for' que se repita 5 veces (una por cada semana).\n",
        "for semana in range(1, 6):\n",
        "    # 4. Dentro del bucle, pedir al usuario el crecimiento de la planta para la semana actual\n",
        "    while True:\n",
        "        try:\n",
        "            crecimiento_semanal_str = input(f\"Ingrese el crecimiento en cm para la semana {semana}: \")\n",
        "            crecimiento_semanal = float(crecimiento_semanal_str)\n",
        "            break # Salir del bucle while si la entrada es válida\n",
        "        except ValueError:\n",
        "            print(\"Entrada inválida. Por favor, ingresa un número para el crecimiento.\")\n",
        "\n",
        "    # 5. Sumar el crecimiento ingresado a la variable de altura total.\n",
        "    altura_total += crecimiento_semanal\n",
        "\n",
        "# 6. Después de que el bucle termine, mostrar la altura total acumulada de la planta.\n",
        "print(f\"\\nLa altura total de la planta después de 5 semanas es: {altura_total:.2f} cm\")"
      ],
      "metadata": {
        "colab": {
          "base_uri": "https://localhost:8080/"
        },
        "id": "gP2vmY-ZbQEG",
        "outputId": "d9bf5ccb-c0cb-4879-f062-f5ded43dea4f"
      },
      "execution_count": 3,
      "outputs": [
        {
          "output_type": "stream",
          "name": "stdout",
          "text": [
            "Simulación de crecimiento de la planta durante 5 semanas.\n",
            "Ingrese el crecimiento en cm para la semana 1: 3\n",
            "Ingrese el crecimiento en cm para la semana 2: 2\n",
            "Ingrese el crecimiento en cm para la semana 3: 5\n",
            "Ingrese el crecimiento en cm para la semana 4: 3\n",
            "Ingrese el crecimiento en cm para la semana 5: 7\n",
            "\n",
            "La altura total de la planta después de 5 semanas es: 20.00 cm\n"
          ]
        }
      ]
    },
    {
      "cell_type": "markdown",
      "metadata": {
        "id": "352112a8"
      },
      "source": [
        "Este código simula el crecimiento en altura de una planta durante 5 semanas, pidiendo al usuario el crecimiento semanal:\n",
        "\n",
        "1.  **Inicialización:** Se crea una variable `altura_total` y se inicializa en 0. Esta variable almacenará la altura acumulada de la planta.\n",
        "2.  **Mensaje Inicial:** Se imprime un mensaje para informar al usuario sobre el propósito del programa y la duración de la simulación (5 semanas).\n",
        "3.  **Bucle de Simulación (for):** Se utiliza un bucle `for` que se repite 5 veces. `range(1, 6)` genera números del 1 al 5, representando cada semana.\n",
        "4.  **Solicitud de Crecimiento Semanal y Manejo de Errores (while True y try-except):**\n",
        "    *   Dentro del bucle `for`, hay un bucle `while True` para asegurar que el usuario ingrese una entrada válida.\n",
        "    *   Se pide al usuario que ingrese el crecimiento en cm para la semana actual utilizando un f-string para incluir el número de la semana (`semana`).\n",
        "    *   Se utiliza un bloque `try-except` para intentar convertir la entrada del usuario a un número decimal (`float`).\n",
        "    *   Si la conversión es exitosa (`try`), el `crecimiento_semanal` se suma a la `altura_total`, y `break` sale del bucle `while`.\n",
        "    *   Si la conversión falla (`except ValueError`), se imprime un mensaje de error y el bucle `while` continúa pidiendo la entrada nuevamente hasta que sea válida.\n",
        "5.  **Acumulación de Altura:** El crecimiento ingresado (`crecimiento_semanal`) se suma a la variable `altura_total` en cada iteración del bucle `for`.\n",
        "6.  **Resultado Final:** Después de que el bucle `for` termina (después de 5 semanas), se imprime la altura total acumulada de la planta. Se utiliza un f-string y `:.2f` para formatear la altura total con dos decimales."
      ]
    },
    {
      "cell_type": "markdown",
      "metadata": {
        "id": "4a853bfe"
      },
      "source": [
        "### Bucle `for` para repetir acciones un número fijo de veces\n",
        "\n",
        "En Python, puedes usar un bucle `for` para repetir un bloque de código un número específico de veces o para iterar sobre una secuencia (como una lista, tupla, cadena, o rango).\n",
        "\n",
        "La sintaxis básica es:"
      ]
    },
    {
      "cell_type": "code",
      "metadata": {
        "colab": {
          "base_uri": "https://localhost:8080/"
        },
        "id": "63e3acc7",
        "outputId": "972bb667-8472-444f-e92a-da5e672277f7"
      },
      "source": [
        "# Repetir una acción 5 veces\n",
        "for i in range(5):\n",
        "    print(f\"Iteración {i}\")\n",
        "\n",
        "# Repetir una acción 3 veces, empezando desde 1\n",
        "for semana in range(1, 4):\n",
        "    print(f\"Simulando semana {semana}\")"
      ],
      "execution_count": 4,
      "outputs": [
        {
          "output_type": "stream",
          "name": "stdout",
          "text": [
            "Iteración 0\n",
            "Iteración 1\n",
            "Iteración 2\n",
            "Iteración 3\n",
            "Iteración 4\n",
            "Simulando semana 1\n",
            "Simulando semana 2\n",
            "Simulando semana 3\n"
          ]
        }
      ]
    },
    {
      "cell_type": "code",
      "metadata": {
        "colab": {
          "base_uri": "https://localhost:8080/"
        },
        "id": "38ad89b2",
        "outputId": "93ef4a9d-371e-4ff7-d5b5-b028522d70d7"
      },
      "source": [
        "suma_total = 0 # 1. Inicializar el acumulador\n",
        "\n",
        "for numero in [10, 20, 30]:\n",
        "    suma_total += numero # 2. Sumar al acumulador en cada iteración\n",
        "\n",
        "print(f\"La suma total es: {suma_total}\") # Salida: La suma total es: 60"
      ],
      "execution_count": 5,
      "outputs": [
        {
          "output_type": "stream",
          "name": "stdout",
          "text": [
            "La suma total es: 60\n"
          ]
        }
      ]
    },
    {
      "cell_type": "markdown",
      "metadata": {
        "id": "5afad40f"
      },
      "source": [
        "*   **¿Qué hace la función `range()` en Python y cómo la uso en un bucle for?**\n",
        "\n",
        "    La función `range()` genera una secuencia de números. Es comúnmente utilizada en bucles `for` para especificar cuántas veces se debe repetir el bucle o para iterar sobre una secuencia de índices.\n",
        "\n",
        "    *   `range(stop)`: Genera números desde 0 hasta `stop-1`.\n",
        "        Ejemplo: `for i in range(5):` iterará 5 veces con `i` tomando los valores 0, 1, 2, 3, 4.\n",
        "    *   `range(start, stop)`: Genera números desde `start` hasta `stop-1`.\n",
        "        Ejemplo: `for i in range(1, 6):` iterará 5 veces con `i` tomando los valores 1, 2, 3, 4, 5.\n",
        "    *   `range(start, stop, step)`: Genera números desde `start` hasta `stop-1`, incrementando en `step`.\n",
        "        Ejemplo: `for i in range(0, 10, 2):` iterará con `i` tomando los valores 0, 2, 4, 6, 8.\n",
        "\n",
        "*   **Necesito una variable que acumule una suma dentro de un bucle. ¿Cómo se hace eso en Python?**\n",
        "\n",
        "    Para acumular una suma dentro de un bucle, necesitas inicializar una variable (generalmente a 0) antes del bucle. Dentro del bucle, en cada iteración, sumas el valor que quieres acumular a esta variable."
      ]
    },
    {
      "cell_type": "markdown",
      "source": [
        "# Situación 3: Control de Calidad de un Lote de Leche Una planta procesadora debe verificar si un lote de leche cumple con el estándar de acidez (medido en °Dornic).\n",
        "\n",
        "Si la acidez está entre 15 y 18 °D, el lote es aceptado. Si es mayor, se destina a queso; si es menor, se rechaza.\n",
        "\n",
        "1. Describir el propósito: Programa de control de calidad de leche por acidez.\n",
        "\n",
        "2. Pedir al operario que ingrese el valor de acidez en grados Dornic.\n",
        "\n",
        "3. Guardar el valor en una variable.\n",
        "\n",
        "4. Escribir una condición 'if' que verifique si la acidez es mayor a 18.\n",
        "\n",
        "5. Si se cumple, imprimir \"Lote destinado para producción de queso\".\n",
        "\n",
        "6. Usar 'elif' para verificar si la acidez es menor a 15.\n",
        "\n",
        "7. Si se cumple, imprimir \"Lote RECHAZADO por baja acidez\".\n",
        "\n",
        "8. Usar 'else' para capturar el caso en que la acidez está en el rango aceptable.\n",
        "\n",
        "9. Si no se cumplen las condiciones anteriores, imprimir \"Lote ACEPTADO para pasteurización\"."
      ],
      "metadata": {
        "id": "ixmVUmmPd7QZ"
      }
    },
    {
      "cell_type": "code",
      "source": [
        "# 1. Describir el propósito: Programa de control de calidad de leche por acidez.\n",
        "print(\"Programa de control de calidad de un lote de leche basado en la acidez (grados Dornic).\")\n",
        "\n",
        "# 2. Pedir al operario que ingrese el valor de acidez en grados Dornic.\n",
        "# 3. Guardar el valor en una variable.\n",
        "try:\n",
        "    acidez_str = input(\"Por favor, ingresa el valor de acidez en °Dornic: \")\n",
        "    acidez = float(acidez_str)\n",
        "\n",
        "    # 4. Escribir una condición 'if' que verifique si la acidez es mayor a 18.\n",
        "    if acidez > 18:\n",
        "        # 5. Si se cumple, imprimir \"Lote destinado para producción de queso\".\n",
        "        print(\"Lote destinado para producción de queso.\")\n",
        "    # 6. Usar 'elif' para verificar si la acidez es menor a 15.\n",
        "    elif acidez < 15:\n",
        "        # 7. Si se cumple, imprimir \"Lote RECHAZADO por baja acidez\".\n",
        "        print(\"Lote RECHAZADO por baja acidez.\")\n",
        "    # 8. Usar 'else' para capturar el caso en que la acidez está en el rango aceptable.\n",
        "    else:\n",
        "        # 9. Si no se cumplen las condiciones anteriores, imprimir \"Lote ACEPTADO para pasteurización\".\n",
        "        print(\"Lote ACEPTADO para pasteurización.\")\n",
        "\n",
        "except ValueError:\n",
        "    print(\"Entrada inválida. Por favor, ingresa un número para la acidez.\")"
      ],
      "metadata": {
        "colab": {
          "base_uri": "https://localhost:8080/"
        },
        "id": "m1-nO1-5eYT4",
        "outputId": "03898cb3-e66d-4855-97d7-c91737a1acf2"
      },
      "execution_count": 6,
      "outputs": [
        {
          "output_type": "stream",
          "name": "stdout",
          "text": [
            "Programa de control de calidad de un lote de leche basado en la acidez (grados Dornic).\n",
            "Por favor, ingresa el valor de acidez en °Dornic: 7\n",
            "Lote RECHAZADO por baja acidez.\n"
          ]
        }
      ]
    },
    {
      "cell_type": "markdown",
      "metadata": {
        "id": "c37bec2e"
      },
      "source": [
        "Este código realiza un control de calidad de un lote de leche basado en su acidez en grados Dornic:\n",
        "\n",
        "1.  **Mensaje Inicial:** Se imprime un mensaje para informar al usuario sobre el propósito del programa (control de calidad por acidez).\n",
        "2.  **Solicitud de Acidez y Manejo de Errores:**\n",
        "    *   Se pide al operario que ingrese el valor de acidez en grados Dornic.\n",
        "    *   Se utiliza un bloque `try-except` para intentar convertir la entrada del usuario a un número decimal (`float`). Si la conversión falla (porque la entrada no es un número válido), se captura la excepción `ValueError` y se imprime un mensaje de error.\n",
        "3.  **Clasificación del Lote (Estructura `if-elif-else`):**\n",
        "    *   **Condición 1 (`if acidez > 18`):** Se verifica si el valor de acidez es mayor que 18. Si es `True`, se imprime que el lote está \"destinado para producción de queso\". Una vez que esta condición es `True` y se ejecuta su bloque de código, el resto de las condiciones (`elif` y `else`) se saltan.\n",
        "    *   **Condición 2 (`elif acidez < 15`):** Si la primera condición (`if`) fue `False`, se verifica si el valor de acidez es menor que 15. Si es `True`, se imprime que el lote está \"RECHAZADO por baja acidez\". Al igual que con el `if`, si esta condición es `True`, se ejecuta su bloque y se salta el `else`.\n",
        "    *   **Caso Restante (`else`):** Si ninguna de las condiciones anteriores (`if` y `elif`) fue `True`, significa que el valor de acidez está entre 15 y 18 (inclusive). En este caso, se ejecuta el bloque `else`, se imprime que el lote está \"ACEPTADO para pasteurización\".\n",
        "\n",
        "Esta estructura `if-elif-else` asegura que solo se ejecute una de las tres ramas de código, dependiendo del rango en el que caiga el valor de acidez ingresado."
      ]
    },
    {
      "cell_type": "markdown",
      "metadata": {
        "id": "5980a142"
      },
      "source": [
        "*   **¿Cómo puedo verificar si una variable está dentro de un rango numérico en Python usando operadores lógicos?**\n",
        "\n",
        "    Puedes usar los operadores de comparación (`<`, `>`, `<=`, `>=`) junto con el operador lógico `and`.\n",
        "\n",
        "    Ejemplo: Para verificar si una variable `edad` está entre 18 y 65 (inclusive):\n",
        "    `if edad >= 18 and edad <= 65:`\n",
        "\n",
        "*   **Explícame el operador lógico `and` en Python. ¿Cómo lo uso en una condición `if`?**\n",
        "\n",
        "    El operador lógico `and` se utiliza para combinar dos o más condiciones. La condición combinada con `and` será `True` solo si **todas** las condiciones individuales son `True`. Si al menos una de las condiciones es `False`, la condición combinada será `False`.\n",
        "\n",
        "    Lo usas en una condición `if` de la siguiente manera:"
      ]
    },
    {
      "cell_type": "code",
      "metadata": {
        "id": "2b83751f"
      },
      "source": [
        "    temperatura = 25\n",
        "    humedad = 60\n",
        "\n",
        "    if temperatura > 20 and humedad < 70:\n",
        "        print(\"Condiciones ideales para el cultivo.\")"
      ],
      "execution_count": null,
      "outputs": []
    },
    {
      "cell_type": "code",
      "metadata": {
        "id": "4a7fdcc0"
      },
      "source": [
        "    nota = 75 # Supongamos una nota de 75\n",
        "\n",
        "    if nota >= 90:\n",
        "        print(\"Excelente\")\n",
        "    elif nota >= 60:\n",
        "        print(\"Aprobado\")\n",
        "    else:\n",
        "        print(\"Reprobado\")"
      ],
      "execution_count": null,
      "outputs": []
    },
    {
      "cell_type": "code",
      "metadata": {
        "id": "766dda71"
      },
      "source": [
        "    temperatura = 30\n",
        "    humedad = 85\n",
        "    pronostico_lluvia = True\n",
        "\n",
        "    if temperatura > 25:\n",
        "        print(\"Hace calor.\")\n",
        "        if humedad > 80:\n",
        "            print(\"Hay alta humedad.\")\n",
        "            if pronostico_lluvia:\n",
        "                print(\"Podría llover pronto.\")\n",
        "            else:\n",
        "                print(\"Aunque hay humedad, no se espera lluvia.\")\n",
        "        else:\n",
        "            print(\"La humedad es moderada.\")\n",
        "    else:\n",
        "        print(\"La temperatura es agradable.\")"
      ],
      "execution_count": null,
      "outputs": []
    },
    {
      "cell_type": "markdown",
      "source": [
        "# Situación 4: Simulación de Llenado de un Tanque\n",
        "\n",
        "Se necesita un programa que simule el llenado de un tanque de 1000 litros. El programa debe pedir al usuario cuántos litros se añaden en cada ciclo de llenado y mostrar el nivel actual, hasta que el tanque esté lleno o se rebase.\n",
        "\n",
        "\n",
        "1. Definir una variable para la capacidad máxima del tanque (ej. 1000).\n",
        "\n",
        "2. Inicializar una variable para el nivel actual del tanque en 0.\n",
        "\n",
        "3. Iniciar un bucle 'while' que continúe mientras el nivel actual sea menor que la capacidad máxima.\n",
        "\n",
        "4. Dentro del bucle, mostrar el nivel actual del tanque.\n",
        "\n",
        "5. Pedir al usuario que ingrese la cantidad de litros a añadir.\n",
        "\n",
        "6. Sumar esa cantidad al nivel actual.\n",
        "\n",
        "7. Fuera del bucle, comprobar con un 'if' si el nivel actual ha sobrepasado la capacidad.\n",
        "\n",
        "8. Si se sobrepasó, mostrar \"Tanque lleno. Se derramaron X litros\".\n",
        "\n",
        "9. Si no, mostrar \"Tanque lleno a su capacidad máxima\"."
      ],
      "metadata": {
        "id": "2m5710RwfZTi"
      }
    },
    {
      "cell_type": "code",
      "source": [
        "# 1. Definir una variable para la capacidad máxima del tanque (ej. 1000).\n",
        "capacidad_maxima = 1000\n",
        "\n",
        "# 2. Inicializar una variable para el nivel actual del tanque en 0.\n",
        "nivel_actual = 0\n",
        "\n",
        "# 3. Iniciar un bucle 'while' que continúe mientras el nivel actual sea menor que la capacidad máxima.\n",
        "while nivel_actual < capacidad_maxima:\n",
        "    # 4. Dentro del bucle, mostrar el nivel actual del tanque.\n",
        "    print(f\"Nivel actual del tanque: {nivel_actual} litros\")\n",
        "\n",
        "    # 5. Pedir al usuario que ingrese la cantidad de litros a añadir.\n",
        "    while True:\n",
        "        try:\n",
        "            litros_a_añadir_str = input(\"Ingrese la cantidad de litros a añadir: \")\n",
        "            litros_a_añadir = float(litros_a_añadir_str)\n",
        "            if litros_a_añadir >= 0:\n",
        "                break  # Salir del bucle while si la entrada es un número no negativo válido\n",
        "            else:\n",
        "                print(\"Por favor, ingresa una cantidad positiva de litros.\")\n",
        "        except ValueError:\n",
        "            print(\"Entrada inválida. Por favor, ingresa un número para la cantidad de litros.\")\n",
        "\n",
        "    # 6. Sumar esa cantidad al nivel actual.\n",
        "    nivel_actual += litros_a_añadir\n",
        "\n",
        "# 7. Fuera del bucle, comprobar con un 'if' si el nivel actual ha sobrepasado la capacidad.\n",
        "if nivel_actual > capacidad_maxima:\n",
        "    # 8. Si se sobrepasó, mostrar \"Tanque lleno. Se derramaron X litros\".\n",
        "    litros_derramados = nivel_actual - capacidad_maxima\n",
        "    print(f\"Tanque lleno. Se derramaron {litros_derramados:.2f} litros.\")\n",
        "else:\n",
        "    # 9. Si no, mostrar \"Tanque lleno a su capacidad máxima\".\n",
        "    print(\"Tanque lleno a su capacidad máxima.\")"
      ],
      "metadata": {
        "colab": {
          "base_uri": "https://localhost:8080/"
        },
        "id": "9RQ9EVUNgDk-",
        "outputId": "fd4796a2-6817-4ed8-becc-785a48656539"
      },
      "execution_count": 7,
      "outputs": [
        {
          "output_type": "stream",
          "name": "stdout",
          "text": [
            "Nivel actual del tanque: 0 litros\n",
            "Ingrese la cantidad de litros a añadir: 75\n",
            "Nivel actual del tanque: 75.0 litros\n",
            "Ingrese la cantidad de litros a añadir: 17\n",
            "Nivel actual del tanque: 92.0 litros\n",
            "Ingrese la cantidad de litros a añadir: 24\n",
            "Nivel actual del tanque: 116.0 litros\n",
            "Ingrese la cantidad de litros a añadir: 127\n",
            "Nivel actual del tanque: 243.0 litros\n",
            "Ingrese la cantidad de litros a añadir: 177\n",
            "Nivel actual del tanque: 420.0 litros\n",
            "Ingrese la cantidad de litros a añadir: break\n",
            "Entrada inválida. Por favor, ingresa un número para la cantidad de litros.\n",
            "Ingrese la cantidad de litros a añadir: 777\n",
            "Tanque lleno. Se derramaron 197.00 litros.\n"
          ]
        }
      ]
    },
    {
      "cell_type": "code",
      "source": [],
      "metadata": {
        "id": "BtzXIxVphJu6"
      },
      "execution_count": null,
      "outputs": []
    },
    {
      "cell_type": "markdown",
      "metadata": {
        "id": "8a1ee7bc"
      },
      "source": [
        "Este código simula el llenado de un tanque de 1000 litros, pidiendo al usuario la cantidad de litros a añadir en cada ciclo:\n",
        "\n",
        "1.  **Definición de Capacidad Máxima:** Se establece una variable `capacidad_maxima` con el valor de 1000 litros.\n",
        "2.  **Inicialización del Nivel Actual:** Se crea una variable `nivel_actual` y se inicializa en 0, representando que el tanque comienza vacío.\n",
        "3.  **Bucle de Llenado (while):** Se inicia un bucle `while` que se ejecutará mientras el `nivel_actual` sea menor que la `capacidad_maxima`. Esto significa que el bucle continuará mientras el tanque no esté lleno.\n",
        "4.  **Mostrar Nivel Actual:** Dentro del bucle, se imprime el `nivel_actual` del tanque en cada iteración para que el usuario sepa cuánto ha sido llenado.\n",
        "5.  **Solicitud de Litros a Añadir y Manejo de Errores (while True y try-except):**\n",
        "    *   Hay un bucle `while True` anidado para asegurar que la entrada del usuario sea un número válido y no negativo.\n",
        "    *   Se pide al usuario que ingrese la cantidad de litros que desea añadir al tanque.\n",
        "    *   Se utiliza un bloque `try-except` para intentar convertir la entrada a un número decimal (`float`). Si falla (`except ValueError`), se imprime un mensaje de error.\n",
        "    *   Se verifica si la cantidad ingresada es no negativa (`if litros_a_añadir >= 0`). Si es válida, se sale del bucle `while` interno con `break`. Si es negativa, se pide al usuario que ingrese una cantidad positiva.\n",
        "6.  **Sumar Litros al Nivel Actual:** La cantidad de litros válida ingresada por el usuario (`litros_a_añadir`) se suma al `nivel_actual` del tanque.\n",
        "7.  **Verificar si se Derramó (if/else fuera del bucle):** Una vez que el bucle `while` principal termina (porque `nivel_actual` ya no es menor que `capacidad_maxima`), se ejecuta una estructura `if/else` para determinar si el tanque se llenó justo a su capacidad o si se sobrepasó.\n",
        "8.  **Mostrar Resultado:**\n",
        "    *   Si `nivel_actual` es mayor que `capacidad_maxima`, se calcula la cantidad derramada y se imprime un mensaje indicando que se derramaron X litros.\n",
        "    *   Si `nivel_actual` no es mayor que `capacidad_maxima` (lo que solo ocurrirá si `nivel_actual` es exactamente igual a `capacidad_maxima`), se imprime un mensaje indicando que el tanque está lleno a su capacidad máxima."
      ]
    },
    {
      "cell_type": "code",
      "source": [],
      "metadata": {
        "id": "S-lHTClkhc4R"
      },
      "execution_count": null,
      "outputs": []
    },
    {
      "cell_type": "markdown",
      "metadata": {
        "id": "884d4c7e"
      },
      "source": [
        "*   **¿Cómo funciona el bucle `while` en Python? Dame una analogía simple.**\n",
        "\n",
        "    El bucle `while` en Python repite un bloque de código **mientras una condición sea verdadera**. La condición se verifica al inicio de cada iteración del bucle. Si la condición es `True`, el código dentro del bucle se ejecuta. Si la condición se vuelve `False`, el bucle termina.\n",
        "\n",
        "    **Analogía simple:** Imagina que estás lavando platos. Usas un bucle `while` que dice: \"Mientras (queden platos sucios en el fregadero), lava un plato\". Seguirás lavando platos repetidamente hasta que la condición (\"queden platos sucios\") sea falsa. Una vez que todos los platos estén limpios, la condición se vuelve falsa y el bucle (lavar platos) termina.\n",
        "\n",
        "*   **¿Qué es un ‘bucle infinito’ y cómo puedo evitarlo al usar un while?**\n",
        "\n",
        "    Un **bucle infinito** es un bucle `while` que nunca termina porque la condición que lo controla siempre sigue siendo `True`. Esto puede causar que tu programa se congele o consuma muchos recursos del sistema.\n",
        "\n",
        "    **¿Cómo evitarlo?** Para evitar un bucle infinito, debes asegurarte de que, en algún momento dentro del bucle, **algo cambie que haga que la condición del bucle `while` eventualmente se vuelva `False`**.\n",
        "\n",
        "    Por ejemplo, si tu condición es `contador < 10`, debes asegurarte de que dentro del bucle incrementes el valor de `contador` en cada iteración (`contador += 1`) para que eventualmente alcance o supere 10 y la condición se vuelva falsa."
      ]
    }
  ]
}